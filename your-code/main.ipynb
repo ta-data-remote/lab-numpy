{
 "cells": [
  {
   "cell_type": "markdown",
   "metadata": {},
   "source": [
    "# Intrduction to NumPy\n",
    "\n",
    "\n",
    "#### 1. Import NumPy under the name np."
   ]
  },
  {
   "cell_type": "code",
   "execution_count": 1,
   "metadata": {},
   "outputs": [],
   "source": [
    "# your code here\n",
    "import numpy as np"
   ]
  },
  {
   "cell_type": "markdown",
   "metadata": {},
   "source": [
    "#### 2. Print your NumPy version."
   ]
  },
  {
   "cell_type": "code",
   "execution_count": 3,
   "metadata": {},
   "outputs": [
    {
     "data": {
      "text/plain": [
       "'1.20.2'"
      ]
     },
     "execution_count": 3,
     "metadata": {},
     "output_type": "execute_result"
    }
   ],
   "source": [
    "# your code here\n",
    "np.__version__"
   ]
  },
  {
   "cell_type": "markdown",
   "metadata": {},
   "source": [
    "#### 3. Generate a 2x3x5 3-dimensional array with random values. Assign the array to variable *a*.\n",
    "**Challenge**: there are at least three easy ways that use numpy to generate random arrays. How many ways can you find?\n",
    "**Hint**: look for `np.random` and search for functions you want to use.\n",
    "\n",
    "The outcomes should look like:\n",
    "```python\n",
    "array([[[ 0.00453782,  0.47251152,  0.65513617,  0.89370211,  0.91464052],\n",
    "        [ 0.35606786,  0.68149792,  0.37211451,  0.2493357 ,  0.66608051],\n",
    "        [ 0.71459267,  0.68722356,  0.20916865,  0.98338451,  0.28154909]],\n",
    "\n",
    "       [[ 0.83752622,  0.12378486,  0.77380373,  0.43270332,  0.26392168],\n",
    "        [ 0.02528723,  0.5352501 ,  0.35521185,  0.05175587,  0.64898055],\n",
    "        [ 0.52616383,  0.94453068,  0.17055731,  0.15094225,  0.63495276]]])\n",
    "```\n",
    "*The values do not need to be the same. Remember that you are creating random numbers.*"
   ]
  },
  {
   "cell_type": "code",
   "execution_count": 46,
   "metadata": {},
   "outputs": [
    {
     "data": {
      "text/plain": [
       "array([[[0.03082189, 0.93915573, 0.25683772, 0.0571346 , 0.38770822],\n",
       "        [0.35709675, 0.98638414, 0.93959064, 0.58277522, 0.99310313],\n",
       "        [0.9899145 , 0.86505637, 0.16171823, 0.36849024, 0.30672666]],\n",
       "\n",
       "       [[0.34086324, 0.29047775, 0.63786407, 0.050654  , 0.93518431],\n",
       "        [0.02584484, 0.53163905, 0.07160379, 0.69149444, 0.11708751],\n",
       "        [0.19351251, 0.9123815 , 0.31071241, 0.3156425 , 0.80703011]]])"
      ]
     },
     "execution_count": 46,
     "metadata": {},
     "output_type": "execute_result"
    }
   ],
   "source": [
    "# Method 1\n",
    "a = np.random.random([2,3,5])\n",
    "a\n",
    "#type(a)"
   ]
  },
  {
   "cell_type": "code",
   "execution_count": 47,
   "metadata": {},
   "outputs": [
    {
     "data": {
      "text/plain": [
       "array([[[0.03082189, 0.93915573, 0.25683772, 0.0571346 , 0.38770822],\n",
       "        [0.35709675, 0.98638414, 0.93959064, 0.58277522, 0.99310313],\n",
       "        [0.9899145 , 0.86505637, 0.16171823, 0.36849024, 0.30672666]],\n",
       "\n",
       "       [[0.34086324, 0.29047775, 0.63786407, 0.050654  , 0.93518431],\n",
       "        [0.02584484, 0.53163905, 0.07160379, 0.69149444, 0.11708751],\n",
       "        [0.19351251, 0.9123815 , 0.31071241, 0.3156425 , 0.80703011]]])"
      ]
     },
     "execution_count": 47,
     "metadata": {},
     "output_type": "execute_result"
    }
   ],
   "source": [
    "# Method 2\n",
    "np.ndarray(shape=(2,3,5)) # found from reference https://numpy.org/doc/stable/reference/generated/numpy.ndarray.html#numpy.ndarray\n",
    "\n"
   ]
  },
  {
   "cell_type": "code",
   "execution_count": 72,
   "metadata": {},
   "outputs": [
    {
     "name": "stdout",
     "output_type": "stream",
     "text": [
      "[[[-0.3887465  -0.10437829  0.22850879  1.93340251 -0.9245254 ]\n",
      "  [ 0.36668562  0.59495425  2.07441262 -0.06431477  0.50304305]\n",
      "  [-0.6389601   0.39805584 -0.49668004 -0.19036585 -0.78607455]]\n",
      "\n",
      " [[-0.24324387  2.18328304 -1.40853733 -0.40392631  1.02999534]\n",
      "  [-0.84491883 -1.47639136  0.05884045  1.99322526  0.43523388]\n",
      "  [ 0.58558141 -0.66651731  0.00542622 -1.7206549   1.67023797]]]\n"
     ]
    }
   ],
   "source": [
    "# Method 3\n",
    "np.random.randn(2,3,5)\n",
    "print(np.random.randn(2,3,5))"
   ]
  },
  {
   "cell_type": "code",
   "execution_count": 92,
   "metadata": {},
   "outputs": [
    {
     "data": {
      "text/plain": [
       "array([[[986, 535, 685, 344, 143],\n",
       "        [689, 783, 257, 449, 387],\n",
       "        [136, 178, 307, 183, 347]],\n",
       "\n",
       "       [[669, 741,  78, 436, 557],\n",
       "        [217, 547, 226, 537, 947],\n",
       "        [260, 996, 701, 240, 206]]])"
      ]
     },
     "execution_count": 92,
     "metadata": {},
     "output_type": "execute_result"
    }
   ],
   "source": [
    "np.random.normal(size=[2,3,5]) # here i just tried one more method! Instead of shape, size also give us the same array!\n",
    "\n",
    "#or we can also use the following:\n",
    "np.random.randint(low=1, high=1000, size=(2,3,5)) #with assiging lowest and highest int to be generated !\n",
    "\n",
    "\n"
   ]
  },
  {
   "cell_type": "markdown",
   "metadata": {},
   "source": [
    "#### 4. Print *a*.\n"
   ]
  },
  {
   "cell_type": "code",
   "execution_count": 84,
   "metadata": {},
   "outputs": [
    {
     "name": "stdout",
     "output_type": "stream",
     "text": [
      "[[[0.03082189 0.93915573 0.25683772 0.0571346  0.38770822]\n",
      "  [0.35709675 0.98638414 0.93959064 0.58277522 0.99310313]\n",
      "  [0.9899145  0.86505637 0.16171823 0.36849024 0.30672666]]\n",
      "\n",
      " [[0.34086324 0.29047775 0.63786407 0.050654   0.93518431]\n",
      "  [0.02584484 0.53163905 0.07160379 0.69149444 0.11708751]\n",
      "  [0.19351251 0.9123815  0.31071241 0.3156425  0.80703011]]]\n"
     ]
    }
   ],
   "source": [
    "# your code here\n",
    "print(a)"
   ]
  },
  {
   "cell_type": "markdown",
   "metadata": {},
   "source": [
    "#### 5. Create a 5x3x2 3-dimensional array with all values equaling 1. Assign the array to variable *b*.\n",
    "\n",
    "The outcome should look like:\n",
    "```python\n",
    "       [[[1., 1.],\n",
    "        [1., 1.],\n",
    "        [1., 1.]],\n",
    "\n",
    "       [[1., 1.],\n",
    "        [1., 1.],\n",
    "        [1., 1.]],\n",
    "\n",
    "       [[1., 1.],\n",
    "        [1., 1.],\n",
    "        [1., 1.]],\n",
    "\n",
    "       [[1., 1.],\n",
    "        [1., 1.],\n",
    "        [1., 1.]],\n",
    "\n",
    "       [[1., 1.],\n",
    "        [1., 1.],\n",
    "        [1., 1.]]]\n",
    "```"
   ]
  },
  {
   "cell_type": "code",
   "execution_count": 67,
   "metadata": {},
   "outputs": [],
   "source": [
    "# your code here\n",
    "b = np.ones([5,3,2])"
   ]
  },
  {
   "cell_type": "markdown",
   "metadata": {},
   "source": [
    "#### 6. Print *b*.\n"
   ]
  },
  {
   "cell_type": "code",
   "execution_count": 85,
   "metadata": {},
   "outputs": [
    {
     "name": "stdout",
     "output_type": "stream",
     "text": [
      "[[[1. 1.]\n",
      "  [1. 1.]\n",
      "  [1. 1.]]\n",
      "\n",
      " [[1. 1.]\n",
      "  [1. 1.]\n",
      "  [1. 1.]]\n",
      "\n",
      " [[1. 1.]\n",
      "  [1. 1.]\n",
      "  [1. 1.]]\n",
      "\n",
      " [[1. 1.]\n",
      "  [1. 1.]\n",
      "  [1. 1.]]\n",
      "\n",
      " [[1. 1.]\n",
      "  [1. 1.]\n",
      "  [1. 1.]]]\n"
     ]
    },
    {
     "data": {
      "text/plain": [
       "numpy.ndarray"
      ]
     },
     "execution_count": 85,
     "metadata": {},
     "output_type": "execute_result"
    }
   ],
   "source": [
    "# your code here\n",
    "print(b)\n",
    "type(b)"
   ]
  },
  {
   "cell_type": "code",
   "execution_count": 69,
   "metadata": {},
   "outputs": [
    {
     "data": {
      "text/plain": [
       "array([[[-1.10014381, -1.31564409,  0.81050091, -1.04477837,\n",
       "         -0.68922937],\n",
       "        [-0.85275686,  1.11347211, -1.92116972, -0.70140242,\n",
       "          0.84908785],\n",
       "        [ 1.05069979, -0.53687446, -0.02919272,  1.39405598,\n",
       "         -0.39786744]],\n",
       "\n",
       "       [[ 1.01912738,  1.8988813 , -0.35484964, -0.38701647,\n",
       "         -1.92730539],\n",
       "        [ 0.55075659,  0.95435581,  0.7827765 , -1.7932379 ,\n",
       "          1.2418555 ],\n",
       "        [ 1.70774688,  0.3231534 , -0.99183439, -1.16328237,\n",
       "         -0.0213351 ]]])"
      ]
     },
     "execution_count": 69,
     "metadata": {},
     "output_type": "execute_result"
    }
   ],
   "source": [
    "np.random.normal(size=[2,3,5])"
   ]
  },
  {
   "cell_type": "markdown",
   "metadata": {},
   "source": [
    "#### 7. Do *a* and *b* have the same size? How do you prove that in Python code?"
   ]
  },
  {
   "cell_type": "code",
   "execution_count": 76,
   "metadata": {},
   "outputs": [
    {
     "name": "stdout",
     "output_type": "stream",
     "text": [
      "Their size are same\n"
     ]
    }
   ],
   "source": [
    "# your code here\n",
    "\n",
    "if np.size(a) == np.size(b):\n",
    "    print(\"Their size are same\")\n",
    "else:\n",
    "    print(\"Their size are not same\")\n"
   ]
  },
  {
   "cell_type": "markdown",
   "metadata": {},
   "source": [
    "#### 8. Are you able to add *a* and *b*? Why or why not?\n"
   ]
  },
  {
   "cell_type": "code",
   "execution_count": 77,
   "metadata": {},
   "outputs": [
    {
     "ename": "ValueError",
     "evalue": "operands could not be broadcast together with shapes (2,3,5) (5,3,2) ",
     "output_type": "error",
     "traceback": [
      "\u001b[0;31m---------------------------------------------------------------------------\u001b[0m",
      "\u001b[0;31mValueError\u001b[0m                                Traceback (most recent call last)",
      "\u001b[0;32m<ipython-input-77-a67ab2671b0b>\u001b[0m in \u001b[0;36m<module>\u001b[0;34m\u001b[0m\n\u001b[1;32m      1\u001b[0m \u001b[0;31m# your answer here\u001b[0m\u001b[0;34m\u001b[0m\u001b[0;34m\u001b[0m\u001b[0;34m\u001b[0m\u001b[0m\n\u001b[0;32m----> 2\u001b[0;31m \u001b[0marr_add\u001b[0m \u001b[0;34m=\u001b[0m \u001b[0mnp\u001b[0m\u001b[0;34m.\u001b[0m\u001b[0madd\u001b[0m\u001b[0;34m(\u001b[0m\u001b[0ma\u001b[0m\u001b[0;34m,\u001b[0m \u001b[0mb\u001b[0m\u001b[0;34m)\u001b[0m\u001b[0;34m\u001b[0m\u001b[0;34m\u001b[0m\u001b[0m\n\u001b[0m\u001b[1;32m      3\u001b[0m \u001b[0;34m\u001b[0m\u001b[0m\n",
      "\u001b[0;31mValueError\u001b[0m: operands could not be broadcast together with shapes (2,3,5) (5,3,2) "
     ]
    }
   ],
   "source": [
    "# your answer here\n",
    "arr_add = np.add(a, b)\n",
    "# It cannot add because they have different array pattern, [2,3,5] & [5,3,2].\n",
    "#see below error for more explanation if you run this code."
   ]
  },
  {
   "cell_type": "markdown",
   "metadata": {},
   "source": [
    "#### 9. Transpose *b* so that it has the same structure of *a* (i.e. become a 2x3x5 array). Assign the transposed array to variable *c*.\n",
    "\n",
    "**Hint**: search for `np.transpose`"
   ]
  },
  {
   "cell_type": "code",
   "execution_count": 80,
   "metadata": {},
   "outputs": [
    {
     "name": "stdout",
     "output_type": "stream",
     "text": [
      "[[[1. 1. 1. 1. 1.]\n",
      "  [1. 1. 1. 1. 1.]\n",
      "  [1. 1. 1. 1. 1.]]\n",
      "\n",
      " [[1. 1. 1. 1. 1.]\n",
      "  [1. 1. 1. 1. 1.]\n",
      "  [1. 1. 1. 1. 1.]]]\n"
     ]
    }
   ],
   "source": [
    "# your code here\n",
    "c = b.T\n",
    "print(c)\n"
   ]
  },
  {
   "cell_type": "markdown",
   "metadata": {},
   "source": [
    "#### 10. Try to add *a* and *c*. Now it should work. Assign the sum to variable *d*. But why does it work now?"
   ]
  },
  {
   "cell_type": "code",
   "execution_count": 86,
   "metadata": {},
   "outputs": [
    {
     "name": "stdout",
     "output_type": "stream",
     "text": [
      "[[[1.03082189 1.93915573 1.25683772 1.0571346  1.38770822]\n",
      "  [1.35709675 1.98638414 1.93959064 1.58277522 1.99310313]\n",
      "  [1.9899145  1.86505637 1.16171823 1.36849024 1.30672666]]\n",
      "\n",
      " [[1.34086324 1.29047775 1.63786407 1.050654   1.93518431]\n",
      "  [1.02584484 1.53163905 1.07160379 1.69149444 1.11708751]\n",
      "  [1.19351251 1.9123815  1.31071241 1.3156425  1.80703011]]]\n"
     ]
    }
   ],
   "source": [
    "# your code/answer here\n",
    "d = np.add(a,c)\n",
    "print(d)\n",
    "# We can add both the arrays because they have same dimensional shape, i.e.2x3x5 3-dimensional "
   ]
  },
  {
   "cell_type": "markdown",
   "metadata": {},
   "source": [
    "#### 11. Print *a* and *d*. Notice the difference and relation of the two array in terms of the values? Explain."
   ]
  },
  {
   "cell_type": "code",
   "execution_count": 88,
   "metadata": {},
   "outputs": [
    {
     "name": "stdout",
     "output_type": "stream",
     "text": [
      "[[[0.03082189 0.93915573 0.25683772 0.0571346  0.38770822]\n",
      "  [0.35709675 0.98638414 0.93959064 0.58277522 0.99310313]\n",
      "  [0.9899145  0.86505637 0.16171823 0.36849024 0.30672666]]\n",
      "\n",
      " [[0.34086324 0.29047775 0.63786407 0.050654   0.93518431]\n",
      "  [0.02584484 0.53163905 0.07160379 0.69149444 0.11708751]\n",
      "  [0.19351251 0.9123815  0.31071241 0.3156425  0.80703011]]]\n",
      "[[[1.03082189 1.93915573 1.25683772 1.0571346  1.38770822]\n",
      "  [1.35709675 1.98638414 1.93959064 1.58277522 1.99310313]\n",
      "  [1.9899145  1.86505637 1.16171823 1.36849024 1.30672666]]\n",
      "\n",
      " [[1.34086324 1.29047775 1.63786407 1.050654   1.93518431]\n",
      "  [1.02584484 1.53163905 1.07160379 1.69149444 1.11708751]\n",
      "  [1.19351251 1.9123815  1.31071241 1.3156425  1.80703011]]]\n"
     ]
    }
   ],
   "source": [
    "# your code/answer here\n",
    "print(a)\n",
    "print(d)\n",
    "\n",
    "#Array a has randomly generated values in shape 2x3x5 and when we created another\n",
    "# array d with transposing c (c was created with full ones), then shape of c became 2x3x5 same as a\n",
    "#hence we were able to add them and values from both of them added together which can be seen clearly\n",
    "#when we print a & d."
   ]
  },
  {
   "cell_type": "markdown",
   "metadata": {},
   "source": [
    "#### 12. Multiply *a* and *c*. Assign the result to *e*."
   ]
  },
  {
   "cell_type": "code",
   "execution_count": 90,
   "metadata": {},
   "outputs": [
    {
     "name": "stdout",
     "output_type": "stream",
     "text": [
      "[[[0.03082189 0.93915573 0.25683772 0.0571346  0.38770822]\n",
      "  [0.35709675 0.98638414 0.93959064 0.58277522 0.99310313]\n",
      "  [0.9899145  0.86505637 0.16171823 0.36849024 0.30672666]]\n",
      "\n",
      " [[0.34086324 0.29047775 0.63786407 0.050654   0.93518431]\n",
      "  [0.02584484 0.53163905 0.07160379 0.69149444 0.11708751]\n",
      "  [0.19351251 0.9123815  0.31071241 0.3156425  0.80703011]]]\n"
     ]
    }
   ],
   "source": [
    "# your code here\n",
    "e = np.multiply(a,c)\n",
    "print(e)"
   ]
  },
  {
   "cell_type": "markdown",
   "metadata": {},
   "source": [
    "#### 13. Does *e* equal to *a*? Why or why not?\n"
   ]
  },
  {
   "cell_type": "code",
   "execution_count": 93,
   "metadata": {},
   "outputs": [
    {
     "name": "stdout",
     "output_type": "stream",
     "text": [
      "[[[0.03082189 0.93915573 0.25683772 0.0571346  0.38770822]\n",
      "  [0.35709675 0.98638414 0.93959064 0.58277522 0.99310313]\n",
      "  [0.9899145  0.86505637 0.16171823 0.36849024 0.30672666]]\n",
      "\n",
      " [[0.34086324 0.29047775 0.63786407 0.050654   0.93518431]\n",
      "  [0.02584484 0.53163905 0.07160379 0.69149444 0.11708751]\n",
      "  [0.19351251 0.9123815  0.31071241 0.3156425  0.80703011]]]\n"
     ]
    }
   ],
   "source": [
    "# your code/answer here\n",
    "print(a)\n",
    "# True, a is equal to e. Because c is full of ones and hence when we multiply whatever number with 1, it gives \n",
    "# us the same value!"
   ]
  },
  {
   "cell_type": "markdown",
   "metadata": {},
   "source": [
    "#### 14. Identify the max, min, and mean values in *d*. Assign those values to variables *d_max*, *d_min* and *d_mean*."
   ]
  },
  {
   "cell_type": "code",
   "execution_count": 107,
   "metadata": {},
   "outputs": [],
   "source": [
    "# your code here\n",
    "d_max = np.max(d)\n",
    "d_min = np.min(d)\n",
    "d_mean = np.mean(d)"
   ]
  },
  {
   "cell_type": "code",
   "execution_count": 111,
   "metadata": {},
   "outputs": [
    {
     "data": {
      "text/plain": [
       "1.9931031337764242"
      ]
     },
     "execution_count": 111,
     "metadata": {},
     "output_type": "execute_result"
    }
   ],
   "source": [
    "d_max"
   ]
  },
  {
   "cell_type": "code",
   "execution_count": 112,
   "metadata": {},
   "outputs": [
    {
     "data": {
      "text/plain": [
       "1.025844836873523"
      ]
     },
     "execution_count": 112,
     "metadata": {},
     "output_type": "execute_result"
    }
   ],
   "source": [
    "d_min"
   ]
  },
  {
   "cell_type": "code",
   "execution_count": 113,
   "metadata": {},
   "outputs": [
    {
     "data": {
      "text/plain": [
       "1.481816869843416"
      ]
     },
     "execution_count": 113,
     "metadata": {},
     "output_type": "execute_result"
    }
   ],
   "source": [
    "d_mean"
   ]
  },
  {
   "cell_type": "markdown",
   "metadata": {},
   "source": [
    "#### 15. Now we want to label the values in *d*. First create an empty array *f* with the same shape (i.e. 2x3x5) as *d* using `np.zeros`.\n"
   ]
  },
  {
   "cell_type": "code",
   "execution_count": 149,
   "metadata": {},
   "outputs": [
    {
     "name": "stdout",
     "output_type": "stream",
     "text": [
      "[[[1.03082189 1.93915573 1.25683772 1.0571346  1.38770822]\n",
      "  [1.35709675 1.98638414 1.93959064 1.58277522 1.99310313]\n",
      "  [1.9899145  1.86505637 1.16171823 1.36849024 1.30672666]]\n",
      "\n",
      " [[1.34086324 1.29047775 1.63786407 1.050654   1.93518431]\n",
      "  [1.02584484 1.53163905 1.07160379 1.69149444 1.11708751]\n",
      "  [1.19351251 1.9123815  1.31071241 1.3156425  1.80703011]]]\n"
     ]
    }
   ],
   "source": [
    "# your code here\n",
    "f = np.zeros([2,3,5])\n",
    "#print(empty_arr)\n",
    "print(d)"
   ]
  },
  {
   "cell_type": "markdown",
   "metadata": {},
   "source": [
    "#### 16. Populate the values in *f*. \n",
    "\n",
    "For each value in *d*, if it's larger than *d_min* but smaller than *d_mean*, assign 25 to the corresponding value in *f*. If a value in *d* is larger than *d_mean* but smaller than *d_max*, assign 75 to the corresponding value in *f*. If a value equals to *d_mean*, assign 50 to the corresponding value in *f*. Assign 0 to the corresponding value(s) in *f* for *d_min* in *d*. Assign 100 to the corresponding value(s) in *f* for *d_max* in *d*. In the end, f should have only the following values: 0, 25, 50, 75, and 100.\n",
    "\n",
    "**Note**: you don't have to use Numpy in this question."
   ]
  },
  {
   "cell_type": "code",
   "execution_count": 143,
   "metadata": {},
   "outputs": [
    {
     "data": {
      "text/plain": [
       "True"
      ]
     },
     "execution_count": 143,
     "metadata": {},
     "output_type": "execute_result"
    }
   ],
   "source": [
    "d.shape  == f.shape"
   ]
  },
  {
   "cell_type": "code",
   "execution_count": 181,
   "metadata": {},
   "outputs": [],
   "source": [
    "#f[d>1.5] = 1\n"
   ]
  },
  {
   "cell_type": "code",
   "execution_count": 154,
   "metadata": {},
   "outputs": [
    {
     "data": {
      "text/plain": [
       "1.9931031337764242"
      ]
     },
     "execution_count": 154,
     "metadata": {},
     "output_type": "execute_result"
    }
   ],
   "source": [
    "d_max"
   ]
  },
  {
   "cell_type": "code",
   "execution_count": 153,
   "metadata": {},
   "outputs": [
    {
     "data": {
      "text/plain": [
       "array([[[1.03082189, 1.93915573, 1.25683772, 1.0571346 , 1.38770822],\n",
       "        [1.35709675, 1.98638414, 1.93959064, 1.58277522, 1.99310313],\n",
       "        [1.9899145 , 1.86505637, 1.16171823, 1.36849024, 1.30672666]],\n",
       "\n",
       "       [[1.34086324, 1.29047775, 1.63786407, 1.050654  , 1.93518431],\n",
       "        [1.02584484, 1.53163905, 1.07160379, 1.69149444, 1.11708751],\n",
       "        [1.19351251, 1.9123815 , 1.31071241, 1.3156425 , 1.80703011]]])"
      ]
     },
     "execution_count": 153,
     "metadata": {},
     "output_type": "execute_result"
    }
   ],
   "source": [
    "d"
   ]
  },
  {
   "cell_type": "code",
   "execution_count": 189,
   "metadata": {},
   "outputs": [
    {
     "data": {
      "text/plain": [
       "array([[['25', '75', '25', '25', '25'],\n",
       "        ['25', '75', '75', '75', '100'],\n",
       "        ['75', '75', '25', '25', '25']],\n",
       "\n",
       "       [['25', '25', '75', '25', '75'],\n",
       "        ['A', '75', '25', '75', '25'],\n",
       "        ['25', '75', '25', '25', '75']]], dtype='<U32')"
      ]
     },
     "execution_count": 189,
     "metadata": {},
     "output_type": "execute_result"
    }
   ],
   "source": [
    "f[d == d_max] =100\n",
    "f[(d>d_min ) & (d<d_mean )] =25\n",
    "f[(d<d_max) & (d>d_mean)] = 75\n",
    "f[d == d_mean] = 50\n",
    "#f[d == d_min] = 0\n",
    "f"
   ]
  },
  {
   "cell_type": "markdown",
   "metadata": {},
   "source": [
    "#### 17. Print *d* and *f*. Do you have your expected *f*?\n",
    "For instance, if your *d* is:\n",
    "```python\n",
    "[[[1.85836099, 1.67064465, 1.62576044, 1.40243961, 1.88454931],\n",
    "[1.75354326, 1.69403643, 1.36729252, 1.61415071, 1.12104981],\n",
    "[1.72201435, 1.1862918 , 1.87078449, 1.7726778 , 1.88180042]],\n",
    "[[1.44747908, 1.31673383, 1.02000951, 1.52218947, 1.97066381],\n",
    "[1.79129243, 1.74983003, 1.96028037, 1.85166831, 1.65450881],\n",
    "[1.18068344, 1.9587381 , 1.00656599, 1.93402165, 1.73514584]]]\n",
    "```\n",
    "Your *f* should be:\n",
    "```python\n",
    "[[[ 75.,  75.,  75.,  25.,  75.],\n",
    "[ 75.,  75.,  25.,  25.,  25.],\n",
    "[ 75.,  25.,  75.,  75.,  75.]],\n",
    "[[ 25.,  25.,  25.,  25., 100.],\n",
    "[ 75.,  75.,  75.,  75.,  75.],\n",
    "[ 25.,  75.,   0.,  75.,  75.]]]\n",
    "```"
   ]
  },
  {
   "cell_type": "code",
   "execution_count": null,
   "metadata": {},
   "outputs": [],
   "source": [
    "# your code here"
   ]
  },
  {
   "cell_type": "markdown",
   "metadata": {},
   "source": [
    "#### 18. Bonus question: instead of using numbers (i.e. 0, 25, 50, 75, and 100), use string values  (\"A\", \"B\", \"C\", \"D\", and \"E\") to label the array elements. For the example above, the expected result is:\n",
    "\n",
    "```python\n",
    "[[[ 'D',  'D',  'D',  'B',  'D'],\n",
    "[ 'D',  'D',  'B',  'B',  'B'],\n",
    "[ 'D',  'B',  'D',  'D',  'D']],\n",
    "[[ 'B',  'B',  'B',  'B',  'E'],\n",
    "[ 'D',  'D',  'D',  'D',  'D'],\n",
    "[ 'B',  'D',   'A',  'D', 'D']]]\n",
    "```\n",
    "**Note**: you don't have to use Numpy in this question."
   ]
  },
  {
   "cell_type": "code",
   "execution_count": 188,
   "metadata": {},
   "outputs": [
    {
     "data": {
      "text/plain": [
       "array([[['B', 'D', 'B', 'B', 'B'],\n",
       "        ['B', 'D', 'D', 'D', 'E'],\n",
       "        ['D', 'D', 'B', 'B', 'B']],\n",
       "\n",
       "       [['B', 'B', 'D', 'B', 'D'],\n",
       "        ['A', 'D', 'B', 'D', 'B'],\n",
       "        ['B', 'D', 'B', 'B', 'D']]], dtype='<U32')"
      ]
     },
     "execution_count": 188,
     "metadata": {},
     "output_type": "execute_result"
    }
   ],
   "source": [
    "f"
   ]
  },
  {
   "cell_type": "code",
   "execution_count": 187,
   "metadata": {},
   "outputs": [
    {
     "data": {
      "text/plain": [
       "array([[['B', 'D', 'B', 'B', 'B'],\n",
       "        ['B', 'D', 'D', 'D', 'E'],\n",
       "        ['D', 'D', 'B', 'B', 'B']],\n",
       "\n",
       "       [['B', 'B', 'D', 'B', 'D'],\n",
       "        ['A', 'D', 'B', 'D', 'B'],\n",
       "        ['B', 'D', 'B', 'B', 'D']]], dtype='<U32')"
      ]
     },
     "execution_count": 187,
     "metadata": {},
     "output_type": "execute_result"
    }
   ],
   "source": [
    "# your code here\n",
    "f = f.astype(str) #because of array object can have only one type of data.\n",
    "f[d == d_max] =\"E\"\n",
    "f[(d>d_min ) & (d<d_mean )] =\"B\"\n",
    "f[(d<d_max) & (d>d_mean)] = \"D\"\n",
    "f[d == d_mean] = \"C\"\n",
    "f[d == d_min] = \"A\"\n",
    "f"
   ]
  },
  {
   "cell_type": "code",
   "execution_count": null,
   "metadata": {},
   "outputs": [],
   "source": []
  }
 ],
 "metadata": {
  "kernelspec": {
   "display_name": "Python 3",
   "language": "python",
   "name": "python3"
  },
  "language_info": {
   "codemirror_mode": {
    "name": "ipython",
    "version": 3
   },
   "file_extension": ".py",
   "mimetype": "text/x-python",
   "name": "python",
   "nbconvert_exporter": "python",
   "pygments_lexer": "ipython3",
   "version": "3.8.10"
  }
 },
 "nbformat": 4,
 "nbformat_minor": 2
}
