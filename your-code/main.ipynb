{
 "cells": [
  {
   "cell_type": "markdown",
   "metadata": {},
   "source": [
    "# Intrduction to NumPy\n",
    "\n",
    "\n",
    "#### 1. Import NumPy under the name np."
   ]
  },
  {
   "cell_type": "code",
   "execution_count": 62,
   "metadata": {},
   "outputs": [],
   "source": [
    "import numpy as np"
   ]
  },
  {
   "cell_type": "markdown",
   "metadata": {},
   "source": [
    "#### 2. Print your NumPy version."
   ]
  },
  {
   "cell_type": "code",
   "execution_count": 63,
   "metadata": {},
   "outputs": [
    {
     "data": {
      "text/plain": [
       "'1.20.2'"
      ]
     },
     "execution_count": 63,
     "metadata": {},
     "output_type": "execute_result"
    }
   ],
   "source": [
    "np.__version__"
   ]
  },
  {
   "cell_type": "markdown",
   "metadata": {},
   "source": [
    "#### 3. Generate a 2x3x5 3-dimensional array with random values. Assign the array to variable *a*.\n",
    "**Challenge**: there are at least three easy ways that use numpy to generate random arrays. How many ways can you find?\n",
    "**Hint**: look for `np.random` and search for functions you want to use.\n",
    "\n",
    "The outcomes should look like:\n",
    "```python\n",
    "array([[[ 0.00453782,  0.47251152,  0.65513617,  0.89370211,  0.91464052],\n",
    "        [ 0.35606786,  0.68149792,  0.37211451,  0.2493357 ,  0.66608051],\n",
    "        [ 0.71459267,  0.68722356,  0.20916865,  0.98338451,  0.28154909]],\n",
    "\n",
    "       [[ 0.83752622,  0.12378486,  0.77380373,  0.43270332,  0.26392168],\n",
    "        [ 0.02528723,  0.5352501 ,  0.35521185,  0.05175587,  0.64898055],\n",
    "        [ 0.52616383,  0.94453068,  0.17055731,  0.15094225,  0.63495276]]])\n",
    "```\n",
    "*The values do not need to be the same. Remember that you are creating random numbers.*"
   ]
  },
  {
   "cell_type": "code",
   "execution_count": 64,
   "metadata": {},
   "outputs": [
    {
     "data": {
      "text/plain": [
       "array([[[0.40173194, 0.81214391, 0.8520237 , 0.56406863, 0.64098208],\n",
       "        [0.22528239, 0.49499364, 0.31654362, 0.34136031, 0.72309857],\n",
       "        [0.61291686, 0.11119928, 0.74259347, 0.23906744, 0.65433636]],\n",
       "\n",
       "       [[0.88650552, 0.98518021, 0.98433229, 0.27096125, 0.29937208],\n",
       "        [0.47451754, 0.62132083, 0.40960961, 0.25973248, 0.86818632],\n",
       "        [0.12147182, 0.62948376, 0.09480891, 0.95411396, 0.41494419]]])"
      ]
     },
     "execution_count": 64,
     "metadata": {},
     "output_type": "execute_result"
    }
   ],
   "source": [
    "# Method 1\n",
    "np.random.random((2,3,5))\n"
   ]
  },
  {
   "cell_type": "code",
   "execution_count": 122,
   "metadata": {},
   "outputs": [
    {
     "data": {
      "text/plain": [
       "array([[[0.84437482, 0.5472648 , 0.5719164 , 0.63911631, 0.89716508],\n",
       "        [0.95976367, 0.27361868, 0.01123465, 0.71818447, 0.73440626],\n",
       "        [0.05731581, 0.45986054, 0.72852122, 0.44129616, 0.66334089]],\n",
       "\n",
       "       [[0.32490685, 0.46843626, 0.72054748, 0.09929232, 0.27410929],\n",
       "        [0.58336296, 0.30927375, 0.23512822, 0.81695987, 0.571254  ],\n",
       "        [0.2262737 , 0.7408374 , 0.97784573, 0.36545852, 0.86926864]]])"
      ]
     },
     "execution_count": 122,
     "metadata": {},
     "output_type": "execute_result"
    }
   ],
   "source": [
    "# Method 2\n",
    "#np.random.random(30) - created the 30 randoom numbers\n",
    "np.random.random(30).reshape(2,3,5)"
   ]
  },
  {
   "cell_type": "code",
   "execution_count": 66,
   "metadata": {},
   "outputs": [
    {
     "data": {
      "text/plain": [
       "array([[[-0.56539312,  0.25773792,  0.54459357,  0.06034951,\n",
       "          1.01328228],\n",
       "        [-1.46171826,  1.22001862,  0.12999224, -1.83662553,\n",
       "          0.59546176],\n",
       "        [-0.06359722, -0.61563338,  0.99965653, -0.29777829,\n",
       "          1.29453637]],\n",
       "\n",
       "       [[ 0.12375946, -0.3935207 ,  1.67952546, -1.09424898,\n",
       "         -0.76256143],\n",
       "        [-0.79771236,  0.41104869, -0.63897531, -0.71276593,\n",
       "         -2.77637908],\n",
       "        [-0.88337838,  0.65022867,  0.08598141, -0.22240568,\n",
       "         -0.60537421]]])"
      ]
     },
     "execution_count": 66,
     "metadata": {},
     "output_type": "execute_result"
    }
   ],
   "source": [
    "# Method 3- normal distributed random values\n",
    "np.random.normal(size=(2,3,5))"
   ]
  },
  {
   "cell_type": "code",
   "execution_count": 67,
   "metadata": {},
   "outputs": [
    {
     "data": {
      "text/plain": [
       "array([[[1.0807975 , 0.73403842, 0.09804486, 0.67417504, 3.43784171],\n",
       "        [1.97398212, 0.10801916, 1.67630106, 1.75257102, 0.06997108],\n",
       "        [0.61462496, 3.61137394, 1.73396272, 1.84755448, 2.0847315 ]],\n",
       "\n",
       "       [[1.38686298, 1.29861364, 1.14421838, 0.49684697, 0.06478299],\n",
       "        [0.20207484, 1.54254083, 0.02302333, 0.67553395, 1.05750795],\n",
       "        [0.90666438, 0.99179908, 0.66670214, 3.21178682, 0.03982523]]])"
      ]
     },
     "execution_count": 67,
     "metadata": {},
     "output_type": "execute_result"
    }
   ],
   "source": [
    "# Method 4- exponencial distributed random values\n",
    "\n",
    "np.random.exponential(size=(2,3,5))"
   ]
  },
  {
   "cell_type": "code",
   "execution_count": 68,
   "metadata": {},
   "outputs": [
    {
     "data": {
      "text/plain": [
       "array([[[6, 7, 8, 9, 2],\n",
       "        [4, 7, 7, 1, 0],\n",
       "        [5, 5, 2, 4, 6]],\n",
       "\n",
       "       [[5, 6, 5, 4, 1],\n",
       "        [2, 4, 2, 5, 3],\n",
       "        [6, 9, 9, 6, 7]]])"
      ]
     },
     "execution_count": 68,
     "metadata": {},
     "output_type": "execute_result"
    }
   ],
   "source": [
    "# Method 4- random integers\n",
    "#from 0 till 9, with the specified dimensions\n",
    "\n",
    "np.random.randint(0,10,(2,3,5))"
   ]
  },
  {
   "cell_type": "markdown",
   "metadata": {},
   "source": [
    "#### 4. Print *a*.\n"
   ]
  },
  {
   "cell_type": "code",
   "execution_count": 69,
   "metadata": {},
   "outputs": [
    {
     "name": "stdout",
     "output_type": "stream",
     "text": [
      "[[[0.08753398 0.161455   0.58322554 0.78006974 0.11083697]\n",
      "  [0.44193925 0.1185585  0.89788743 0.73322166 0.39350503]\n",
      "  [0.79630526 0.22717232 0.17346711 0.21133234 0.44687051]]\n",
      "\n",
      " [[0.61434704 0.912221   0.02170231 0.17139882 0.39254178]\n",
      "  [0.9346489  0.06407182 0.97891054 0.18634007 0.55032813]\n",
      "  [0.71041543 0.12963523 0.07063359 0.79900651 0.05017753]]]\n"
     ]
    },
    {
     "data": {
      "text/plain": [
       "numpy.ndarray"
      ]
     },
     "execution_count": 69,
     "metadata": {},
     "output_type": "execute_result"
    }
   ],
   "source": [
    "a = np.random.random((2,3,5))\n",
    "print(a)\n",
    "type(a)"
   ]
  },
  {
   "cell_type": "markdown",
   "metadata": {},
   "source": [
    "#### 5. Create a 5x3x2 3-dimensional array with all values equaling 1. Assign the array to variable *b*.\n",
    "\n",
    "The outcome should look like:\n",
    "```python\n",
    "       [[[1., 1.],\n",
    "        [1., 1.],\n",
    "        [1., 1.]],\n",
    "\n",
    "       [[1., 1.],\n",
    "        [1., 1.],\n",
    "        [1., 1.]],\n",
    "\n",
    "       [[1., 1.],\n",
    "        [1., 1.],\n",
    "        [1., 1.]],\n",
    "\n",
    "       [[1., 1.],\n",
    "        [1., 1.],\n",
    "        [1., 1.]],\n",
    "\n",
    "       [[1., 1.],\n",
    "        [1., 1.],\n",
    "        [1., 1.]]]\n",
    "```"
   ]
  },
  {
   "cell_type": "code",
   "execution_count": 70,
   "metadata": {},
   "outputs": [
    {
     "data": {
      "text/plain": [
       "numpy.ndarray"
      ]
     },
     "execution_count": 70,
     "metadata": {},
     "output_type": "execute_result"
    }
   ],
   "source": [
    "b=np.full(30,1).reshape(5,3,2)\n",
    "type(b)"
   ]
  },
  {
   "cell_type": "markdown",
   "metadata": {},
   "source": [
    "#### 6. Print *b*.\n"
   ]
  },
  {
   "cell_type": "code",
   "execution_count": 71,
   "metadata": {},
   "outputs": [
    {
     "name": "stdout",
     "output_type": "stream",
     "text": [
      "[[[1 1]\n",
      "  [1 1]\n",
      "  [1 1]]\n",
      "\n",
      " [[1 1]\n",
      "  [1 1]\n",
      "  [1 1]]\n",
      "\n",
      " [[1 1]\n",
      "  [1 1]\n",
      "  [1 1]]\n",
      "\n",
      " [[1 1]\n",
      "  [1 1]\n",
      "  [1 1]]\n",
      "\n",
      " [[1 1]\n",
      "  [1 1]\n",
      "  [1 1]]]\n"
     ]
    }
   ],
   "source": [
    "print(b)"
   ]
  },
  {
   "cell_type": "markdown",
   "metadata": {},
   "source": [
    "#### 7. Do *a* and *b* have the same size? How do you prove that in Python code?"
   ]
  },
  {
   "cell_type": "code",
   "execution_count": 115,
   "metadata": {},
   "outputs": [
    {
     "data": {
      "text/plain": [
       "False"
      ]
     },
     "execution_count": 115,
     "metadata": {},
     "output_type": "execute_result"
    }
   ],
   "source": [
    "a.shape == b.shape #They don´t have the same size"
   ]
  },
  {
   "cell_type": "code",
   "execution_count": 118,
   "metadata": {},
   "outputs": [
    {
     "data": {
      "text/plain": [
       "True"
      ]
     },
     "execution_count": 118,
     "metadata": {},
     "output_type": "execute_result"
    }
   ],
   "source": [
    "a.size ==b.size\n",
    "#Transpose same size, but not shape."
   ]
  },
  {
   "cell_type": "code",
   "execution_count": 73,
   "metadata": {},
   "outputs": [
    {
     "name": "stdout",
     "output_type": "stream",
     "text": [
      "(5, 3, 2)\n",
      "(2, 3, 5)\n"
     ]
    }
   ],
   "source": [
    "print(b.shape)\n",
    "print(a.shape)"
   ]
  },
  {
   "cell_type": "code",
   "execution_count": 74,
   "metadata": {},
   "outputs": [
    {
     "name": "stdout",
     "output_type": "stream",
     "text": [
      " x dimension: 2, y dimension: 3 ,z dimension: 5\n"
     ]
    }
   ],
   "source": [
    "#I treat it as a list of list\n",
    "len_ax =len(a)\n",
    "for y in a:\n",
    "    len_ay=len(y)\n",
    "    for z in y:\n",
    "        len_az= len(z)\n",
    "        \n",
    "print(f\" x dimension: {len_ax}, y dimension: {len_ay} ,z dimension: {len_az}\")"
   ]
  },
  {
   "cell_type": "code",
   "execution_count": 75,
   "metadata": {},
   "outputs": [
    {
     "name": "stdout",
     "output_type": "stream",
     "text": [
      " x dimension: 5, y dimension: 3 ,z dimension: 2\n"
     ]
    }
   ],
   "source": [
    "#I treat it as a list of list\n",
    "len_bx =len(b)\n",
    "for y in b:\n",
    "    len_by=len(y)\n",
    "    for z in y:\n",
    "        len_bz= len(z)\n",
    "        \n",
    "print(f\" x dimension: {len_bx}, y dimension: {len_by} ,z dimension: {len_bz}\")"
   ]
  },
  {
   "cell_type": "code",
   "execution_count": 76,
   "metadata": {},
   "outputs": [
    {
     "name": "stdout",
     "output_type": "stream",
     "text": [
      "They don't have the same size\n"
     ]
    }
   ],
   "source": [
    "if len_ax==len_bx and len_ay==len_by and len_az==len_bz:\n",
    "    print (\"They have the same size\")\n",
    "else:\n",
    "    print(\"They don't have the same size\")"
   ]
  },
  {
   "cell_type": "markdown",
   "metadata": {},
   "source": [
    "#### 8. Are you able to add *a* and *b*? Why or why not?\n"
   ]
  },
  {
   "cell_type": "code",
   "execution_count": 78,
   "metadata": {},
   "outputs": [],
   "source": [
    "#ab= a + b\n",
    "#It can not be added because they have different size\n",
    "#ValueError: operands could not be broadcast \n",
    "#together with shapes (2,3,5) (5,3,2) "
   ]
  },
  {
   "cell_type": "markdown",
   "metadata": {},
   "source": [
    "#### 9. Transpose *b* so that it has the same structure of *a* (i.e. become a 2x3x5 array). Assign the transposed array to variable *c*.\n",
    "\n",
    "**Hint**: search for `np.transpose`"
   ]
  },
  {
   "cell_type": "code",
   "execution_count": 79,
   "metadata": {},
   "outputs": [],
   "source": [
    "c= b.transpose()"
   ]
  },
  {
   "cell_type": "code",
   "execution_count": 80,
   "metadata": {},
   "outputs": [
    {
     "name": "stdout",
     "output_type": "stream",
     "text": [
      "[[[1 1 1 1 1]\n",
      "  [1 1 1 1 1]\n",
      "  [1 1 1 1 1]]\n",
      "\n",
      " [[1 1 1 1 1]\n",
      "  [1 1 1 1 1]\n",
      "  [1 1 1 1 1]]]\n"
     ]
    }
   ],
   "source": [
    "print(c)"
   ]
  },
  {
   "cell_type": "markdown",
   "metadata": {},
   "source": [
    "#### 10. Try to add *a* and *c*. Now it should work. Assign the sum to variable *d*. But why does it work now?"
   ]
  },
  {
   "cell_type": "code",
   "execution_count": 81,
   "metadata": {},
   "outputs": [
    {
     "name": "stdout",
     "output_type": "stream",
     "text": [
      "[[[1.08753398 1.161455   1.58322554 1.78006974 1.11083697]\n",
      "  [1.44193925 1.1185585  1.89788743 1.73322166 1.39350503]\n",
      "  [1.79630526 1.22717232 1.17346711 1.21133234 1.44687051]]\n",
      "\n",
      " [[1.61434704 1.912221   1.02170231 1.17139882 1.39254178]\n",
      "  [1.9346489  1.06407182 1.97891054 1.18634007 1.55032813]\n",
      "  [1.71041543 1.12963523 1.07063359 1.79900651 1.05017753]]]\n"
     ]
    }
   ],
   "source": [
    "d = a+c\n",
    "print(d)"
   ]
  },
  {
   "cell_type": "code",
   "execution_count": 82,
   "metadata": {},
   "outputs": [
    {
     "data": {
      "text/plain": [
       "True"
      ]
     },
     "execution_count": 82,
     "metadata": {},
     "output_type": "execute_result"
    }
   ],
   "source": [
    "a.shape ==c.shape"
   ]
  },
  {
   "cell_type": "code",
   "execution_count": 83,
   "metadata": {},
   "outputs": [
    {
     "name": "stdout",
     "output_type": "stream",
     "text": [
      "[[[1.08753398 1.161455   1.58322554 1.78006974 1.11083697]\n",
      "  [1.44193925 1.1185585  1.89788743 1.73322166 1.39350503]\n",
      "  [1.79630526 1.22717232 1.17346711 1.21133234 1.44687051]]\n",
      "\n",
      " [[1.61434704 1.912221   1.02170231 1.17139882 1.39254178]\n",
      "  [1.9346489  1.06407182 1.97891054 1.18634007 1.55032813]\n",
      "  [1.71041543 1.12963523 1.07063359 1.79900651 1.05017753]]]\n"
     ]
    }
   ],
   "source": [
    "#It can also be add with:\n",
    "\n",
    "d =np.add(a,c)\n",
    "print(d)"
   ]
  },
  {
   "cell_type": "markdown",
   "metadata": {},
   "source": [
    "#### 11. Print *a* and *d*. Notice the difference and relation of the two array in terms of the values? Explain."
   ]
  },
  {
   "cell_type": "code",
   "execution_count": 84,
   "metadata": {},
   "outputs": [
    {
     "name": "stdout",
     "output_type": "stream",
     "text": [
      "[[[0.08753398 0.161455   0.58322554 0.78006974 0.11083697]\n",
      "  [0.44193925 0.1185585  0.89788743 0.73322166 0.39350503]\n",
      "  [0.79630526 0.22717232 0.17346711 0.21133234 0.44687051]]\n",
      "\n",
      " [[0.61434704 0.912221   0.02170231 0.17139882 0.39254178]\n",
      "  [0.9346489  0.06407182 0.97891054 0.18634007 0.55032813]\n",
      "  [0.71041543 0.12963523 0.07063359 0.79900651 0.05017753]]]\n"
     ]
    }
   ],
   "source": [
    "print(a)"
   ]
  },
  {
   "cell_type": "code",
   "execution_count": 85,
   "metadata": {},
   "outputs": [
    {
     "name": "stdout",
     "output_type": "stream",
     "text": [
      "[[[1.08753398 1.161455   1.58322554 1.78006974 1.11083697]\n",
      "  [1.44193925 1.1185585  1.89788743 1.73322166 1.39350503]\n",
      "  [1.79630526 1.22717232 1.17346711 1.21133234 1.44687051]]\n",
      "\n",
      " [[1.61434704 1.912221   1.02170231 1.17139882 1.39254178]\n",
      "  [1.9346489  1.06407182 1.97891054 1.18634007 1.55032813]\n",
      "  [1.71041543 1.12963523 1.07063359 1.79900651 1.05017753]]]\n"
     ]
    }
   ],
   "source": [
    "print(d)"
   ]
  },
  {
   "cell_type": "code",
   "execution_count": 86,
   "metadata": {},
   "outputs": [],
   "source": [
    "#The addition is made element by element, like in a matrix addition"
   ]
  },
  {
   "cell_type": "markdown",
   "metadata": {},
   "source": [
    "#### 12. Multiply *a* and *c*. Assign the result to *e*."
   ]
  },
  {
   "cell_type": "code",
   "execution_count": 87,
   "metadata": {},
   "outputs": [
    {
     "name": "stdout",
     "output_type": "stream",
     "text": [
      "[[[0.08753398 0.161455   0.58322554 0.78006974 0.11083697]\n",
      "  [0.44193925 0.1185585  0.89788743 0.73322166 0.39350503]\n",
      "  [0.79630526 0.22717232 0.17346711 0.21133234 0.44687051]]\n",
      "\n",
      " [[0.61434704 0.912221   0.02170231 0.17139882 0.39254178]\n",
      "  [0.9346489  0.06407182 0.97891054 0.18634007 0.55032813]\n",
      "  [0.71041543 0.12963523 0.07063359 0.79900651 0.05017753]]]\n"
     ]
    }
   ],
   "source": [
    "e = a*c\n",
    "print(e)\n",
    "\n",
    "#or \n",
    "#np.multiply(a,c)"
   ]
  },
  {
   "cell_type": "markdown",
   "metadata": {},
   "source": [
    "#### 13. Does *e* equal to *a*? Why or why not?\n"
   ]
  },
  {
   "cell_type": "code",
   "execution_count": 88,
   "metadata": {},
   "outputs": [
    {
     "data": {
      "text/plain": [
       "array([[[ True,  True,  True,  True,  True],\n",
       "        [ True,  True,  True,  True,  True],\n",
       "        [ True,  True,  True,  True,  True]],\n",
       "\n",
       "       [[ True,  True,  True,  True,  True],\n",
       "        [ True,  True,  True,  True,  True],\n",
       "        [ True,  True,  True,  True,  True]]])"
      ]
     },
     "execution_count": 88,
     "metadata": {},
     "output_type": "execute_result"
    }
   ],
   "source": [
    "e==a\n",
    "#It equals because b is a matrix of 1"
   ]
  },
  {
   "cell_type": "markdown",
   "metadata": {},
   "source": [
    "#### 14. Identify the max, min, and mean values in *d*. Assign those values to variables *d_max*, *d_min* and *d_mean*."
   ]
  },
  {
   "cell_type": "code",
   "execution_count": 89,
   "metadata": {},
   "outputs": [
    {
     "name": "stdout",
     "output_type": "stream",
     "text": [
      "Maximum value in d: 1.9789105395046314, Minimum  value in d: 1.0217023141050277, Mean of all values from d: 1.4249919783751843\n"
     ]
    }
   ],
   "source": [
    "d_max =np.max(d)\n",
    "d_min = np.min(d)\n",
    "d_mean = np.mean(d)\n",
    "\n",
    "print(f\"Maximum value in d: {d_max}, Minimum  value in d: {d_min}, Mean of all values from d: {d_mean}\")"
   ]
  },
  {
   "cell_type": "markdown",
   "metadata": {},
   "source": [
    "#### 15. Now we want to label the values in *d*. First create an empty array *f* with the same shape (i.e. 2x3x5) as *d* using `np.zeros`.\n"
   ]
  },
  {
   "cell_type": "code",
   "execution_count": 119,
   "metadata": {},
   "outputs": [],
   "source": [
    "shape_d =d.shape"
   ]
  },
  {
   "cell_type": "code",
   "execution_count": 121,
   "metadata": {},
   "outputs": [
    {
     "data": {
      "text/plain": [
       "array([[[0., 0., 0., 0., 0.],\n",
       "        [0., 0., 0., 0., 0.],\n",
       "        [0., 0., 0., 0., 0.]],\n",
       "\n",
       "       [[0., 0., 0., 0., 0.],\n",
       "        [0., 0., 0., 0., 0.],\n",
       "        [0., 0., 0., 0., 0.]]])"
      ]
     },
     "execution_count": 121,
     "metadata": {},
     "output_type": "execute_result"
    }
   ],
   "source": [
    "#np.zeros((2, 2, 2)) direclty give the dimensions as an argument\n",
    "np.zeros(shape_d)"
   ]
  },
  {
   "cell_type": "code",
   "execution_count": 91,
   "metadata": {},
   "outputs": [
    {
     "name": "stdout",
     "output_type": "stream",
     "text": [
      "[[[0. 0. 0. 0. 0.]\n",
      "  [0. 0. 0. 0. 0.]\n",
      "  [0. 0. 0. 0. 0.]]\n",
      "\n",
      " [[0. 0. 0. 0. 0.]\n",
      "  [0. 0. 0. 0. 0.]\n",
      "  [0. 0. 0. 0. 0.]]]\n"
     ]
    }
   ],
   "source": [
    "f= np.zeros(30).reshape(shape_d)\n",
    "print(f)"
   ]
  },
  {
   "cell_type": "markdown",
   "metadata": {},
   "source": [
    "#### 16. Populate the values in *f*. \n",
    "\n",
    "For each value in *d*, if it's larger than *d_min* but smaller than *d_mean*, assign 25 to the corresponding value in *f*. If a value in *d* is larger than *d_mean* but smaller than *d_max*, assign 75 to the corresponding value in *f*. If a value equals to *d_mean*, assign 50 to the corresponding value in *f*. Assign 0 to the corresponding value(s) in *f* for *d_min* in *d*. Assign 100 to the corresponding value(s) in *f* for *d_max* in *d*. In the end, f should have only the following values: 0, 25, 50, 75, and 100.\n",
    "\n",
    "**Note**: you don't have to use Numpy in this question."
   ]
  },
  {
   "cell_type": "code",
   "execution_count": 134,
   "metadata": {},
   "outputs": [
    {
     "name": "stdout",
     "output_type": "stream",
     "text": [
      "[[[ 25.  25.   0.   0.  25.]\n",
      "  [  0.  25.   0.   0.  25.]\n",
      "  [  0.  25.  25.  25.   0.]]\n",
      "\n",
      " [[  0.   0.   0.  25.  25.]\n",
      "  [  0.  25. 100.  25.   0.]\n",
      "  [  0.  25.  25.   0.  25.]]]\n"
     ]
    }
   ],
   "source": [
    "#Boolean indexing (| = or  , & = and) every condition in parenhesis\n",
    "\n",
    "f[d==d_max]= 100\n",
    "f[d==d_mean]= 50\n",
    "f[d==d_min]= 0\n",
    "print(f)"
   ]
  },
  {
   "cell_type": "code",
   "execution_count": 135,
   "metadata": {},
   "outputs": [
    {
     "name": "stdout",
     "output_type": "stream",
     "text": [
      "[[[ 25.  25.  75.  75.  25.]\n",
      "  [ 75.  25.  75.  75.  25.]\n",
      "  [ 75.  25.  25.  25.  75.]]\n",
      "\n",
      " [[ 75.  75.   0.  25.  25.]\n",
      "  [ 75.  25. 100.  25.  75.]\n",
      "  [ 75.  25.  25.  75.  25.]]]\n"
     ]
    }
   ],
   "source": [
    "f[(d > d_min) & (d < d_mean)]= 25\n",
    "f[(d < d_max) & (d > d_mean)]= 75\n",
    "print(f)"
   ]
  },
  {
   "cell_type": "markdown",
   "metadata": {},
   "source": [
    "#### 17. Print *d* and *f*. Do you have your expected *f*?\n",
    "For instance, if your *d* is:\n",
    "```python\n",
    "[[[1.85836099, 1.67064465, 1.62576044, 1.40243961, 1.88454931],\n",
    "[1.75354326, 1.69403643, 1.36729252, 1.61415071, 1.12104981],\n",
    "[1.72201435, 1.1862918 , 1.87078449, 1.7726778 , 1.88180042]],\n",
    "[[1.44747908, 1.31673383, 1.02000951, 1.52218947, 1.97066381],\n",
    "[1.79129243, 1.74983003, 1.96028037, 1.85166831, 1.65450881],\n",
    "[1.18068344, 1.9587381 , 1.00656599, 1.93402165, 1.73514584]]]\n",
    "```\n",
    "Your *f* should be:\n",
    "```python\n",
    "[[[ 75.,  75.,  75.,  25.,  75.],\n",
    "[ 75.,  75.,  25.,  25.,  25.],\n",
    "[ 75.,  25.,  75.,  75.,  75.]],\n",
    "[[ 25.,  25.,  25.,  25., 100.],\n",
    "[ 75.,  75.,  75.,  75.,  75.],\n",
    "[ 25.,  75.,   0.,  75.,  75.]]]\n",
    "```"
   ]
  },
  {
   "cell_type": "code",
   "execution_count": 136,
   "metadata": {},
   "outputs": [
    {
     "name": "stdout",
     "output_type": "stream",
     "text": [
      "[[[1.08753398 1.161455   1.58322554 1.78006974 1.11083697]\n",
      "  [1.44193925 1.1185585  1.89788743 1.73322166 1.39350503]\n",
      "  [1.79630526 1.22717232 1.17346711 1.21133234 1.44687051]]\n",
      "\n",
      " [[1.61434704 1.912221   1.02170231 1.17139882 1.39254178]\n",
      "  [1.9346489  1.06407182 1.97891054 1.18634007 1.55032813]\n",
      "  [1.71041543 1.12963523 1.07063359 1.79900651 1.05017753]]]\n"
     ]
    }
   ],
   "source": [
    "print(d)"
   ]
  },
  {
   "cell_type": "code",
   "execution_count": 137,
   "metadata": {},
   "outputs": [
    {
     "name": "stdout",
     "output_type": "stream",
     "text": [
      "[[[ 25.  25.  75.  75.  25.]\n",
      "  [ 75.  25.  75.  75.  25.]\n",
      "  [ 75.  25.  25.  25.  75.]]\n",
      "\n",
      " [[ 75.  75.   0.  25.  25.]\n",
      "  [ 75.  25. 100.  25.  75.]\n",
      "  [ 75.  25.  25.  75.  25.]]]\n"
     ]
    }
   ],
   "source": [
    "print(f)"
   ]
  },
  {
   "cell_type": "markdown",
   "metadata": {},
   "source": [
    "#### 18. Bonus question: instead of using numbers (i.e. 0, 25, 50, 75, and 100), use string values  (\"A\", \"B\", \"C\", \"D\", and \"E\") to label the array elements. For the example above, the expected result is:\n",
    "\n",
    "```python\n",
    "[[[ 'D',  'D',  'D',  'B',  'D'],\n",
    "[ 'D',  'D',  'B',  'B',  'B'],\n",
    "[ 'D',  'B',  'D',  'D',  'D']],\n",
    "[[ 'B',  'B',  'B',  'B',  'E'],\n",
    "[ 'D',  'D',  'D',  'D',  'D'],\n",
    "[ 'B',  'D',   'A',  'D', 'D']]]\n",
    "```\n",
    "**Note**: you don't have to use Numpy in this question."
   ]
  },
  {
   "cell_type": "code",
   "execution_count": 139,
   "metadata": {},
   "outputs": [
    {
     "ename": "ValueError",
     "evalue": "could not convert string to float: 'E'",
     "output_type": "error",
     "traceback": [
      "\u001b[0;31m---------------------------------------------------------------------------\u001b[0m",
      "\u001b[0;31mValueError\u001b[0m                                Traceback (most recent call last)",
      "\u001b[0;32m<ipython-input-139-b5484b7211ca>\u001b[0m in \u001b[0;36m<module>\u001b[0;34m\u001b[0m\n\u001b[0;32m----> 1\u001b[0;31m \u001b[0mf\u001b[0m\u001b[0;34m[\u001b[0m\u001b[0mf\u001b[0m\u001b[0;34m==\u001b[0m\u001b[0;36m100\u001b[0m\u001b[0;34m]\u001b[0m\u001b[0;34m=\u001b[0m \u001b[0;34m\"E\"\u001b[0m\u001b[0;34m\u001b[0m\u001b[0;34m\u001b[0m\u001b[0m\n\u001b[0m",
      "\u001b[0;31mValueError\u001b[0m: could not convert string to float: 'E'"
     ]
    }
   ],
   "source": [
    "f[f==100]= \"E\""
   ]
  }
 ],
 "metadata": {
  "kernelspec": {
   "display_name": "Laura1Env",
   "language": "python",
   "name": "laura1env"
  },
  "language_info": {
   "codemirror_mode": {
    "name": "ipython",
    "version": 3
   },
   "file_extension": ".py",
   "mimetype": "text/x-python",
   "name": "python",
   "nbconvert_exporter": "python",
   "pygments_lexer": "ipython3",
   "version": "3.9.2"
  }
 },
 "nbformat": 4,
 "nbformat_minor": 2
}
