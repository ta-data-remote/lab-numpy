{
 "cells": [
  {
   "cell_type": "markdown",
   "metadata": {},
   "source": [
    "# Intrduction to NumPy\n",
    "\n",
    "\n",
    "#### 1. Import NumPy under the name np."
   ]
  },
  {
   "cell_type": "code",
   "execution_count": 1,
   "metadata": {},
   "outputs": [],
   "source": [
    "# your code here\n",
    "import numpy as np"
   ]
  },
  {
   "cell_type": "markdown",
   "metadata": {},
   "source": [
    "#### 2. Print your NumPy version."
   ]
  },
  {
   "cell_type": "code",
   "execution_count": 2,
   "metadata": {},
   "outputs": [
    {
     "data": {
      "text/plain": [
       "'1.19.2'"
      ]
     },
     "execution_count": 2,
     "metadata": {},
     "output_type": "execute_result"
    }
   ],
   "source": [
    "# your code here\n",
    "np.__version__"
   ]
  },
  {
   "cell_type": "markdown",
   "metadata": {},
   "source": [
    "#### 3. Generate a 2x3x5 3-dimensional array with random values. Assign the array to variable *a*.\n",
    "**Challenge**: there are at least three easy ways that use numpy to generate random arrays. How many ways can you find?\n",
    "**Hint**: look for `np.random` and search for functions you want to use.\n",
    "\n",
    "The outcomes should look like:\n",
    "```python\n",
    "array([[[ 0.00453782,  0.47251152,  0.65513617,  0.89370211,  0.91464052],\n",
    "        [ 0.35606786,  0.68149792,  0.37211451,  0.2493357 ,  0.66608051],\n",
    "        [ 0.71459267,  0.68722356,  0.20916865,  0.98338451,  0.28154909]],\n",
    "\n",
    "       [[ 0.83752622,  0.12378486,  0.77380373,  0.43270332,  0.26392168],\n",
    "        [ 0.02528723,  0.5352501 ,  0.35521185,  0.05175587,  0.64898055],\n",
    "        [ 0.52616383,  0.94453068,  0.17055731,  0.15094225,  0.63495276]]])\n",
    "```\n",
    "*The values do not need to be the same. Remember that you are creating random numbers.*"
   ]
  },
  {
   "cell_type": "code",
   "execution_count": 18,
   "metadata": {},
   "outputs": [
    {
     "data": {
      "text/plain": [
       "array([[[0.88241956, 0.1239464 , 0.35494488, 0.14623245, 0.63105579],\n",
       "        [0.64470747, 0.27901257, 0.94997033, 0.98159757, 0.81759509],\n",
       "        [0.43691888, 0.61981146, 0.2798251 , 0.55087866, 0.85391699]],\n",
       "\n",
       "       [[0.72105098, 0.52340931, 0.71476921, 0.87653887, 0.69464453],\n",
       "        [0.35642933, 0.79571055, 0.52411689, 0.17197375, 0.4967694 ],\n",
       "        [0.81276052, 0.72695187, 0.53374369, 0.73009443, 0.38024943]]])"
      ]
     },
     "execution_count": 18,
     "metadata": {},
     "output_type": "execute_result"
    }
   ],
   "source": [
    "# Method 1\n",
    "a = np.random.random((2,3,5))\n",
    "a"
   ]
  },
  {
   "cell_type": "code",
   "execution_count": 19,
   "metadata": {},
   "outputs": [
    {
     "data": {
      "text/plain": [
       "array([[[ 0.90752054,  0.57810183, -1.46142042,  1.12565711,\n",
       "          0.54186794],\n",
       "        [-0.25102412, -0.27612718,  0.3775659 , -0.51562637,\n",
       "         -1.01755662],\n",
       "        [ 0.80223558, -0.77309418,  0.70268225,  1.13420486,\n",
       "         -1.50468013]],\n",
       "\n",
       "       [[-0.43317359, -0.01781617,  0.09135775, -0.46228936,\n",
       "         -0.79960893],\n",
       "        [-0.06399447,  0.07467563, -0.5272238 , -0.54356004,\n",
       "          0.26459604],\n",
       "        [ 0.66070848, -0.19166466, -0.43853147, -1.09938988,\n",
       "          2.15282496]]])"
      ]
     },
     "execution_count": 19,
     "metadata": {},
     "output_type": "execute_result"
    }
   ],
   "source": [
    "# Method 2\n",
    "np.random.normal(0,1,(2,3,5))"
   ]
  },
  {
   "cell_type": "code",
   "execution_count": 26,
   "metadata": {},
   "outputs": [
    {
     "data": {
      "text/plain": [
       "array([[[9.56121308, 3.58386264, 7.62575259, 1.94925004, 5.37899471],\n",
       "        [4.44305296, 0.49111378, 1.7075075 , 5.6931339 , 3.58384596],\n",
       "        [9.57873417, 4.4068657 , 3.06477877, 4.3132436 , 7.30506149]],\n",
       "\n",
       "       [[3.15974493, 9.33412271, 2.98073298, 5.06879093, 7.46326327],\n",
       "        [5.41628397, 2.31949111, 1.53744945, 6.43258901, 8.70441436],\n",
       "        [5.06565387, 3.85221554, 6.47017167, 8.74282981, 4.78710877]]])"
      ]
     },
     "execution_count": 26,
     "metadata": {},
     "output_type": "execute_result"
    }
   ],
   "source": [
    "# Method 3\n",
    "np.random.uniform(0, 10, (2, 3, 5))"
   ]
  },
  {
   "cell_type": "code",
   "execution_count": null,
   "metadata": {},
   "outputs": [],
   "source": [
    "# np.random.randint(0, 10, (2, 3, 5))"
   ]
  },
  {
   "cell_type": "markdown",
   "metadata": {},
   "source": [
    "#### 4. Print *a*.\n"
   ]
  },
  {
   "cell_type": "code",
   "execution_count": 21,
   "metadata": {},
   "outputs": [
    {
     "name": "stdout",
     "output_type": "stream",
     "text": [
      "[[[0.88241956 0.1239464  0.35494488 0.14623245 0.63105579]\n",
      "  [0.64470747 0.27901257 0.94997033 0.98159757 0.81759509]\n",
      "  [0.43691888 0.61981146 0.2798251  0.55087866 0.85391699]]\n",
      "\n",
      " [[0.72105098 0.52340931 0.71476921 0.87653887 0.69464453]\n",
      "  [0.35642933 0.79571055 0.52411689 0.17197375 0.4967694 ]\n",
      "  [0.81276052 0.72695187 0.53374369 0.73009443 0.38024943]]]\n"
     ]
    }
   ],
   "source": [
    "# your code here\n",
    "print(a)"
   ]
  },
  {
   "cell_type": "markdown",
   "metadata": {},
   "source": [
    "#### 5. Create a 5x2x3 3-dimensional array with all values equaling 1. Assign the array to variable *b*.\n",
    "\n",
    "The outcome should look like:\n",
    "```python\n",
    "[[[ 1.  1.  1.]\n",
    "  [ 1.  1.  1.]]\n",
    "\n",
    " [[ 1.  1.  1.]\n",
    "  [ 1.  1.  1.]]\n",
    "\n",
    " [[ 1.  1.  1.]\n",
    "  [ 1.  1.  1.]]\n",
    "\n",
    " [[ 1.  1.  1.]\n",
    "  [ 1.  1.  1.]]\n",
    "\n",
    " [[ 1.  1.  1.]\n",
    "  [ 1.  1.  1.]]]\n",
    "```"
   ]
  },
  {
   "cell_type": "code",
   "execution_count": 22,
   "metadata": {},
   "outputs": [],
   "source": [
    "# your code here\n",
    "b = np.ones((5,2,3))   # Create an array of all ones"
   ]
  },
  {
   "cell_type": "markdown",
   "metadata": {},
   "source": [
    "#### 6. Print *b*.\n"
   ]
  },
  {
   "cell_type": "code",
   "execution_count": 23,
   "metadata": {},
   "outputs": [
    {
     "name": "stdout",
     "output_type": "stream",
     "text": [
      "[[[1. 1. 1.]\n",
      "  [1. 1. 1.]]\n",
      "\n",
      " [[1. 1. 1.]\n",
      "  [1. 1. 1.]]\n",
      "\n",
      " [[1. 1. 1.]\n",
      "  [1. 1. 1.]]\n",
      "\n",
      " [[1. 1. 1.]\n",
      "  [1. 1. 1.]]\n",
      "\n",
      " [[1. 1. 1.]\n",
      "  [1. 1. 1.]]] \n",
      "\n"
     ]
    }
   ],
   "source": [
    "# your code here\n",
    "print(b, \"\\n\")"
   ]
  },
  {
   "cell_type": "code",
   "execution_count": 38,
   "metadata": {},
   "outputs": [
    {
     "data": {
      "text/plain": [
       "(5, 2, 3)"
      ]
     },
     "execution_count": 38,
     "metadata": {},
     "output_type": "execute_result"
    }
   ],
   "source": [
    "b.shape"
   ]
  },
  {
   "cell_type": "markdown",
   "metadata": {},
   "source": [
    "#### 7. Do *a* and *b* have the same size? How do you prove that in Python code?"
   ]
  },
  {
   "cell_type": "code",
   "execution_count": 24,
   "metadata": {},
   "outputs": [
    {
     "data": {
      "text/plain": [
       "True"
      ]
     },
     "execution_count": 24,
     "metadata": {},
     "output_type": "execute_result"
    }
   ],
   "source": [
    "# your code here\n",
    "a.size == b.size"
   ]
  },
  {
   "cell_type": "markdown",
   "metadata": {},
   "source": [
    "#### 8. Are you able to add *a* and *b*? Why or why not?\n"
   ]
  },
  {
   "cell_type": "code",
   "execution_count": 80,
   "metadata": {},
   "outputs": [],
   "source": [
    "# your answer here\n",
    "# np.add(a,b)   - operands could not be broadcast together with shapes (2,3,5) (5,2,3) "
   ]
  },
  {
   "cell_type": "markdown",
   "metadata": {},
   "source": [
    "#### 9. Transpose *b* so that it has the same structure of *a* (i.e. become a 2x3x5 array). Assign the transposed array to variable *c*.\n",
    "\n",
    "**Hint**: search for `np.transpose`"
   ]
  },
  {
   "cell_type": "code",
   "execution_count": 82,
   "metadata": {},
   "outputs": [
    {
     "data": {
      "text/plain": [
       "array([[[1., 1., 1., 1., 1.],\n",
       "        [1., 1., 1., 1., 1.],\n",
       "        [1., 1., 1., 1., 1.]],\n",
       "\n",
       "       [[1., 1., 1., 1., 1.],\n",
       "        [1., 1., 1., 1., 1.],\n",
       "        [1., 1., 1., 1., 1.]]])"
      ]
     },
     "execution_count": 82,
     "metadata": {},
     "output_type": "execute_result"
    }
   ],
   "source": [
    "# your code here\n",
    "c = b.reshape(2,3,5)\n",
    "c"
   ]
  },
  {
   "cell_type": "markdown",
   "metadata": {},
   "source": [
    "#### 10. Try to add *a* and *c*. Now it should work. Assign the sum to variable *d*. But why does it work now?"
   ]
  },
  {
   "cell_type": "code",
   "execution_count": 84,
   "metadata": {},
   "outputs": [
    {
     "data": {
      "text/plain": [
       "array([[[1.88241956, 1.1239464 , 1.35494488, 1.14623245, 1.63105579],\n",
       "        [1.64470747, 1.27901257, 1.94997033, 1.98159757, 1.81759509],\n",
       "        [1.43691888, 1.61981146, 1.2798251 , 1.55087866, 1.85391699]],\n",
       "\n",
       "       [[1.72105098, 1.52340931, 1.71476921, 1.87653887, 1.69464453],\n",
       "        [1.35642933, 1.79571055, 1.52411689, 1.17197375, 1.4967694 ],\n",
       "        [1.81276052, 1.72695187, 1.53374369, 1.73009443, 1.38024943]]])"
      ]
     },
     "execution_count": 84,
     "metadata": {},
     "output_type": "execute_result"
    }
   ],
   "source": [
    "# your code/answer here\n",
    "d = np.add (a,c)  # d = a + c\n",
    "d                 # because they have the same shape"
   ]
  },
  {
   "cell_type": "markdown",
   "metadata": {},
   "source": [
    "#### 11. Print *a* and *d*. Notice the difference and relation of the two array in terms of the values? Explain."
   ]
  },
  {
   "cell_type": "code",
   "execution_count": 103,
   "metadata": {},
   "outputs": [
    {
     "name": "stdout",
     "output_type": "stream",
     "text": [
      "a:  [[[0.88241956 0.1239464  0.35494488 0.14623245 0.63105579]\n",
      "  [0.64470747 0.27901257 0.94997033 0.98159757 0.81759509]\n",
      "  [0.43691888 0.61981146 0.2798251  0.55087866 0.85391699]]\n",
      "\n",
      " [[0.72105098 0.52340931 0.71476921 0.87653887 0.69464453]\n",
      "  [0.35642933 0.79571055 0.52411689 0.17197375 0.4967694 ]\n",
      "  [0.81276052 0.72695187 0.53374369 0.73009443 0.38024943]]]\n",
      "\n",
      "d:  [[[1.88241956 1.1239464  1.35494488 1.14623245 1.63105579]\n",
      "  [1.64470747 1.27901257 1.94997033 1.98159757 1.81759509]\n",
      "  [1.43691888 1.61981146 1.2798251  1.55087866 1.85391699]]\n",
      "\n",
      " [[1.72105098 1.52340931 1.71476921 1.87653887 1.69464453]\n",
      "  [1.35642933 1.79571055 1.52411689 1.17197375 1.4967694 ]\n",
      "  [1.81276052 1.72695187 1.53374369 1.73009443 1.38024943]]]\n"
     ]
    }
   ],
   "source": [
    "# your code/answer here\n",
    "print(\"a: \", a)   # concatenation happened\n",
    "print( )\n",
    "print(\"d: \", d)   # since every element in c is one, that the difference to a elements "
   ]
  },
  {
   "cell_type": "markdown",
   "metadata": {},
   "source": [
    "#### 12. Multiply *a* and *c*. Assign the result to *e*."
   ]
  },
  {
   "cell_type": "code",
   "execution_count": 104,
   "metadata": {},
   "outputs": [
    {
     "data": {
      "text/plain": [
       "array([[[0.88241956, 0.1239464 , 0.35494488, 0.14623245, 0.63105579],\n",
       "        [0.64470747, 0.27901257, 0.94997033, 0.98159757, 0.81759509],\n",
       "        [0.43691888, 0.61981146, 0.2798251 , 0.55087866, 0.85391699]],\n",
       "\n",
       "       [[0.72105098, 0.52340931, 0.71476921, 0.87653887, 0.69464453],\n",
       "        [0.35642933, 0.79571055, 0.52411689, 0.17197375, 0.4967694 ],\n",
       "        [0.81276052, 0.72695187, 0.53374369, 0.73009443, 0.38024943]]])"
      ]
     },
     "execution_count": 104,
     "metadata": {},
     "output_type": "execute_result"
    }
   ],
   "source": [
    "# your code here\n",
    "e = a * c\n",
    "e"
   ]
  },
  {
   "cell_type": "markdown",
   "metadata": {},
   "source": [
    "#### 13. Does *e* equal to *a*? Why or why not?\n"
   ]
  },
  {
   "cell_type": "code",
   "execution_count": 105,
   "metadata": {},
   "outputs": [
    {
     "data": {
      "text/plain": [
       "array([[[ True,  True,  True,  True,  True],\n",
       "        [ True,  True,  True,  True,  True],\n",
       "        [ True,  True,  True,  True,  True]],\n",
       "\n",
       "       [[ True,  True,  True,  True,  True],\n",
       "        [ True,  True,  True,  True,  True],\n",
       "        [ True,  True,  True,  True,  True]]])"
      ]
     },
     "execution_count": 105,
     "metadata": {},
     "output_type": "execute_result"
    }
   ],
   "source": [
    "# your code/answer here\n",
    "e == a    "
   ]
  },
  {
   "cell_type": "markdown",
   "metadata": {},
   "source": [
    "#### 14. Identify the max, min, and mean values in *d*. Assign those values to variables *d_max*, *d_min* and *d_mean*."
   ]
  },
  {
   "cell_type": "code",
   "execution_count": 106,
   "metadata": {},
   "outputs": [
    {
     "data": {
      "text/plain": [
       "1.5870681990629052"
      ]
     },
     "execution_count": 106,
     "metadata": {},
     "output_type": "execute_result"
    }
   ],
   "source": [
    "# your code here\n",
    "d_mean = np.mean(d)\n",
    "d_mean"
   ]
  },
  {
   "cell_type": "code",
   "execution_count": 107,
   "metadata": {},
   "outputs": [
    {
     "data": {
      "text/plain": [
       "1.981597571742987"
      ]
     },
     "execution_count": 107,
     "metadata": {},
     "output_type": "execute_result"
    }
   ],
   "source": [
    "d_max = np.max(d)\n",
    "d_max"
   ]
  },
  {
   "cell_type": "code",
   "execution_count": 108,
   "metadata": {},
   "outputs": [
    {
     "data": {
      "text/plain": [
       "1.123946399336613"
      ]
     },
     "execution_count": 108,
     "metadata": {},
     "output_type": "execute_result"
    }
   ],
   "source": [
    "d_min = np.min(d)\n",
    "d_min"
   ]
  },
  {
   "cell_type": "markdown",
   "metadata": {},
   "source": [
    "#### 15. Now we want to label the values in *d*. First create an empty array *f* with the same shape (i.e. 2x3x5) as *d* using `np.empty`.\n"
   ]
  },
  {
   "cell_type": "code",
   "execution_count": 109,
   "metadata": {},
   "outputs": [
    {
     "data": {
      "text/plain": [
       "array([[[0., 0., 0., 0., 0.],\n",
       "        [0., 0., 0., 0., 0.],\n",
       "        [0., 0., 0., 0., 0.]],\n",
       "\n",
       "       [[0., 0., 0., 0., 0.],\n",
       "        [0., 0., 0., 0., 0.],\n",
       "        [0., 0., 0., 0., 0.]]])"
      ]
     },
     "execution_count": 109,
     "metadata": {},
     "output_type": "execute_result"
    }
   ],
   "source": [
    "# your code here\n",
    "f = np.zeros((2,3,5))   # f = np.empty_like(d)\n",
    "f"
   ]
  },
  {
   "cell_type": "markdown",
   "metadata": {},
   "source": [
    "#### 16. Populate the values in *f*. \n",
    "\n",
    "For each value in *d*, if it's larger than *d_min* but smaller than *d_mean*, assign 25 to the corresponding value in *f*. If a value in *d* is larger than *d_mean* but smaller than *d_max*, assign 75 to the corresponding value in *f*. If a value equals to *d_mean*, assign 50 to the corresponding value in *f*. Assign 0 to the corresponding value(s) in *f* for *d_min* in *d*. Assign 100 to the corresponding value(s) in *f* for *d_max* in *d*. In the end, f should have only the following values: 0, 25, 50, 75, and 100.\n",
    "\n",
    "**Note**: you don't have to use Numpy in this question."
   ]
  },
  {
   "cell_type": "code",
   "execution_count": 121,
   "metadata": {},
   "outputs": [
    {
     "name": "stdout",
     "output_type": "stream",
     "text": [
      "[[[1.88241956 1.1239464  1.35494488 1.14623245 1.63105579]\n",
      "  [1.64470747 1.27901257 1.94997033 1.98159757 1.81759509]\n",
      "  [1.43691888 1.61981146 1.2798251  1.55087866 1.85391699]]\n",
      "\n",
      " [[1.72105098 1.52340931 1.71476921 1.87653887 1.69464453]\n",
      "  [1.35642933 1.79571055 1.52411689 1.17197375 1.4967694 ]\n",
      "  [1.81276052 1.72695187 1.53374369 1.73009443 1.38024943]]]\n"
     ]
    }
   ],
   "source": [
    "print(d)"
   ]
  },
  {
   "cell_type": "code",
   "execution_count": 122,
   "metadata": {},
   "outputs": [
    {
     "name": "stdout",
     "output_type": "stream",
     "text": [
      "[[[ 75.   0.  25.  25.  75.]\n",
      "  [ 75.  25.  75. 100.  75.]\n",
      "  [ 25.  75.  25.  25.  75.]]\n",
      "\n",
      " [[ 75.  25.  75.  75.  75.]\n",
      "  [ 25.  75.  25.  25.  25.]\n",
      "  [ 75.  75.  25.  75.  25.]]]\n"
     ]
    }
   ],
   "source": [
    "# your code here\n",
    "f [ d == d_max ] = 100\n",
    "f [ (d < d_max) & (d > d_mean)] = 75\n",
    "f [ d == d_mean] = 50\n",
    "f [ (d < d_mean) & (d > d_min) ] = 25\n",
    "f [ d == d_min ] = 0\n",
    "print(f)"
   ]
  },
  {
   "cell_type": "markdown",
   "metadata": {},
   "source": [
    "#### 17. Print *d* and *f*. Do you have your expected *f*?\n",
    "For instance, if your *d* is:\n",
    "```python\n",
    "[[[1.85836099, 1.67064465, 1.62576044, 1.40243961, 1.88454931],\n",
    "[1.75354326, 1.69403643, 1.36729252, 1.61415071, 1.12104981],\n",
    "[1.72201435, 1.1862918 , 1.87078449, 1.7726778 , 1.88180042]],\n",
    "[[1.44747908, 1.31673383, 1.02000951, 1.52218947, 1.97066381],\n",
    "[1.79129243, 1.74983003, 1.96028037, 1.85166831, 1.65450881],\n",
    "[1.18068344, 1.9587381 , 1.00656599, 1.93402165, 1.73514584]]]\n",
    "```\n",
    "Your *f* should be:\n",
    "```python\n",
    "[[[ 75.,  75.,  75.,  25.,  75.],\n",
    "[ 75.,  75.,  25.,  25.,  25.],\n",
    "[ 75.,  25.,  75.,  75.,  75.]],\n",
    "[[ 25.,  25.,  25.,  25., 100.],\n",
    "[ 75.,  75.,  75.,  75.,  75.],\n",
    "[ 25.,  75.,   0.,  75.,  75.]]]\n",
    "```"
   ]
  },
  {
   "cell_type": "code",
   "execution_count": 124,
   "metadata": {},
   "outputs": [
    {
     "data": {
      "text/plain": [
       "array([[[1.88241956, 1.1239464 , 1.35494488, 1.14623245, 1.63105579],\n",
       "        [1.64470747, 1.27901257, 1.94997033, 1.98159757, 1.81759509],\n",
       "        [1.43691888, 1.61981146, 1.2798251 , 1.55087866, 1.85391699]],\n",
       "\n",
       "       [[1.72105098, 1.52340931, 1.71476921, 1.87653887, 1.69464453],\n",
       "        [1.35642933, 1.79571055, 1.52411689, 1.17197375, 1.4967694 ],\n",
       "        [1.81276052, 1.72695187, 1.53374369, 1.73009443, 1.38024943]]])"
      ]
     },
     "execution_count": 124,
     "metadata": {},
     "output_type": "execute_result"
    }
   ],
   "source": [
    "# your code here\n",
    "d"
   ]
  },
  {
   "cell_type": "markdown",
   "metadata": {},
   "source": [
    "#### 18. Bonus question: instead of using numbers (i.e. 0, 25, 50, 75, and 100), use string values  (\"A\", \"B\", \"C\", \"D\", and \"E\") to label the array elements. For the example above, the expected result is:\n",
    "\n",
    "```python\n",
    "[[[ 'D',  'D',  'D',  'B',  'D'],\n",
    "[ 'D',  'D',  'B',  'B',  'B'],\n",
    "[ 'D',  'B',  'D',  'D',  'D']],\n",
    "[[ 'B',  'B',  'B',  'B',  'E'],\n",
    "[ 'D',  'D',  'D',  'D',  'D'],\n",
    "[ 'B',  'D',   'A',  'D', 'D']]]\n",
    "```\n",
    "**Note**: you don't have to use Numpy in this question."
   ]
  },
  {
   "cell_type": "code",
   "execution_count": 125,
   "metadata": {},
   "outputs": [
    {
     "name": "stdout",
     "output_type": "stream",
     "text": [
      "[[['B' 'E' 'D' 'D' 'B']\n",
      "  ['B' 'D' 'B' 'A' 'B']\n",
      "  ['D' 'B' 'D' 'D' 'B']]\n",
      "\n",
      " [['B' 'D' 'B' 'B' 'B']\n",
      "  ['D' 'B' 'D' 'D' 'D']\n",
      "  ['B' 'B' 'D' 'B' 'D']]]\n"
     ]
    }
   ],
   "source": [
    "# your code here\n",
    "\n",
    "f = f.astype(str)\n",
    "\n",
    "f [ d == d_max ] = \"A\"\n",
    "f [ (d < d_max) & (d > d_mean)] = \"B\"\n",
    "f [ d == d_mean] = \"C\"\n",
    "f [ (d < d_mean) & (d > d_min) ] = \"D\"\n",
    "f [ d == d_min ] = \"E\"\n",
    "print(f)"
   ]
  }
 ],
 "metadata": {
  "kernelspec": {
   "display_name": "Python 3",
   "language": "python",
   "name": "python3"
  },
  "language_info": {
   "codemirror_mode": {
    "name": "ipython",
    "version": 3
   },
   "file_extension": ".py",
   "mimetype": "text/x-python",
   "name": "python",
   "nbconvert_exporter": "python",
   "pygments_lexer": "ipython3",
   "version": "3.8.5"
  },
  "varInspector": {
   "cols": {
    "lenName": 16,
    "lenType": 16,
    "lenVar": 40
   },
   "kernels_config": {
    "python": {
     "delete_cmd_postfix": "",
     "delete_cmd_prefix": "del ",
     "library": "var_list.py",
     "varRefreshCmd": "print(var_dic_list())"
    },
    "r": {
     "delete_cmd_postfix": ") ",
     "delete_cmd_prefix": "rm(",
     "library": "var_list.r",
     "varRefreshCmd": "cat(var_dic_list()) "
    }
   },
   "types_to_exclude": [
    "module",
    "function",
    "builtin_function_or_method",
    "instance",
    "_Feature"
   ],
   "window_display": false
  }
 },
 "nbformat": 4,
 "nbformat_minor": 2
}
