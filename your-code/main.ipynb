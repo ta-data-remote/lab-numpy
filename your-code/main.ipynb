{
 "cells": [
  {
   "cell_type": "markdown",
   "metadata": {},
   "source": [
    "# Intrduction to NumPy\n",
    "\n",
    "\n",
    "#### 1. Import NumPy under the name np."
   ]
  },
  {
   "cell_type": "code",
   "execution_count": 3,
   "metadata": {},
   "outputs": [],
   "source": [
    "import numpy as np"
   ]
  },
  {
   "cell_type": "markdown",
   "metadata": {},
   "source": [
    "#### 2. Print your NumPy version."
   ]
  },
  {
   "cell_type": "code",
   "execution_count": 4,
   "metadata": {},
   "outputs": [
    {
     "data": {
      "text/plain": [
       "'1.19.2'"
      ]
     },
     "execution_count": 4,
     "metadata": {},
     "output_type": "execute_result"
    }
   ],
   "source": [
    "np.__version__"
   ]
  },
  {
   "cell_type": "markdown",
   "metadata": {},
   "source": [
    "#### 3. Generate a 2x3x5 3-dimensional array with random values. Assign the array to variable *a*.\n",
    "**Challenge**: there are at least three easy ways that use numpy to generate random arrays. How many ways can you find?\n",
    "**Hint**: look for `np.random` and search for functions you want to use.\n",
    "\n",
    "The outcomes should look like:\n",
    "```python\n",
    "array([[[ 0.00453782,  0.47251152,  0.65513617,  0.89370211,  0.91464052],\n",
    "        [ 0.35606786,  0.68149792,  0.37211451,  0.2493357 ,  0.66608051],\n",
    "        [ 0.71459267,  0.68722356,  0.20916865,  0.98338451,  0.28154909]],\n",
    "\n",
    "       [[ 0.83752622,  0.12378486,  0.77380373,  0.43270332,  0.26392168],\n",
    "        [ 0.02528723,  0.5352501 ,  0.35521185,  0.05175587,  0.64898055],\n",
    "        [ 0.52616383,  0.94453068,  0.17055731,  0.15094225,  0.63495276]]])\n",
    "```\n",
    "*The values do not need to be the same. Remember that you are creating random numbers.*"
   ]
  },
  {
   "cell_type": "code",
   "execution_count": 5,
   "metadata": {},
   "outputs": [
    {
     "data": {
      "text/plain": [
       "array([[[0.39081758, 0.91592776, 0.64177224, 0.23649816, 0.93410343],\n",
       "        [0.94922711, 0.24172548, 0.79578745, 0.09831732, 0.71567027],\n",
       "        [0.95066194, 0.15647249, 0.34594066, 0.59782275, 0.89309087]],\n",
       "\n",
       "       [[0.1588084 , 0.50704356, 0.63601393, 0.93271946, 0.15710614],\n",
       "        [0.30654266, 0.10424907, 0.12346093, 0.1915759 , 0.22836841],\n",
       "        [0.36603261, 0.91489244, 0.86624534, 0.10308593, 0.51178912]]])"
      ]
     },
     "execution_count": 5,
     "metadata": {},
     "output_type": "execute_result"
    }
   ],
   "source": [
    "# Method 1\n",
    "a = np.random.random((2,3,5))\n",
    "a"
   ]
  },
  {
   "cell_type": "code",
   "execution_count": 6,
   "metadata": {},
   "outputs": [
    {
     "data": {
      "text/plain": [
       "array([[[ 1.56248112, -1.15310198, -0.38170722, -1.29357329,\n",
       "         -1.15994242],\n",
       "        [ 0.31460586,  0.20098848,  0.65481243,  1.50250966,\n",
       "         -1.6581195 ],\n",
       "        [-1.05752271, -1.17021461, -1.34233658, -1.51392149,\n",
       "         -0.42795214]],\n",
       "\n",
       "       [[ 0.01169744,  0.58931666,  0.40482963, -1.61365745,\n",
       "         -0.09674433],\n",
       "        [ 0.87179559, -0.81794802,  0.35375027, -0.79369803,\n",
       "          0.22222818],\n",
       "        [ 1.38457114,  0.45259949,  0.23183974, -0.89921648,\n",
       "         -0.92855059]]])"
      ]
     },
     "execution_count": 6,
     "metadata": {},
     "output_type": "execute_result"
    }
   ],
   "source": [
    "# Method 2\n",
    "l = np.random.normal(0,1, (2,3,5))\n",
    "l"
   ]
  },
  {
   "cell_type": "code",
   "execution_count": 7,
   "metadata": {},
   "outputs": [
    {
     "data": {
      "text/plain": [
       "array([[[ 59, 116,  48,  74,  39],\n",
       "        [141,  33,  51,  20,  20],\n",
       "        [ 46,  54,  63,   9, 134]],\n",
       "\n",
       "       [[ 87,  73,  27,  95,  10],\n",
       "        [  7,   1,  22, 122,  51],\n",
       "        [ 63,  18,  46,  57, 128]]])"
      ]
     },
     "execution_count": 7,
     "metadata": {},
     "output_type": "execute_result"
    }
   ],
   "source": [
    "# Method 3\n",
    "j = np.random.randint(0,150, (2,3,5))\n",
    "j"
   ]
  },
  {
   "cell_type": "markdown",
   "metadata": {},
   "source": [
    "#### 4. Print *a*.\n"
   ]
  },
  {
   "cell_type": "code",
   "execution_count": 8,
   "metadata": {},
   "outputs": [
    {
     "name": "stdout",
     "output_type": "stream",
     "text": [
      "[[[0.39081758 0.91592776 0.64177224 0.23649816 0.93410343]\n",
      "  [0.94922711 0.24172548 0.79578745 0.09831732 0.71567027]\n",
      "  [0.95066194 0.15647249 0.34594066 0.59782275 0.89309087]]\n",
      "\n",
      " [[0.1588084  0.50704356 0.63601393 0.93271946 0.15710614]\n",
      "  [0.30654266 0.10424907 0.12346093 0.1915759  0.22836841]\n",
      "  [0.36603261 0.91489244 0.86624534 0.10308593 0.51178912]]]\n"
     ]
    }
   ],
   "source": [
    "# your code here\n",
    "print(a)"
   ]
  },
  {
   "cell_type": "markdown",
   "metadata": {},
   "source": [
    "#### 5. Create a 5x3x2 3-dimensional array with all values equaling 1. Assign the array to variable *b*.\n",
    "\n",
    "The outcome should look like:\n",
    "```python\n",
    "       [[[1., 1.],\n",
    "        [1., 1.],\n",
    "        [1., 1.]],\n",
    "\n",
    "       [[1., 1.],\n",
    "        [1., 1.],\n",
    "        [1., 1.]],\n",
    "\n",
    "       [[1., 1.],\n",
    "        [1., 1.],\n",
    "        [1., 1.]],\n",
    "\n",
    "       [[1., 1.],\n",
    "        [1., 1.],\n",
    "        [1., 1.]],\n",
    "\n",
    "       [[1., 1.],\n",
    "        [1., 1.],\n",
    "        [1., 1.]]]\n",
    "```"
   ]
  },
  {
   "cell_type": "code",
   "execution_count": 9,
   "metadata": {},
   "outputs": [],
   "source": [
    "# your code here\n",
    "b = np.random.normal(1,0, (5,3,2))"
   ]
  },
  {
   "cell_type": "markdown",
   "metadata": {},
   "source": [
    "#### 6. Print *b*.\n"
   ]
  },
  {
   "cell_type": "code",
   "execution_count": 10,
   "metadata": {},
   "outputs": [
    {
     "name": "stdout",
     "output_type": "stream",
     "text": [
      "[[[1. 1.]\n",
      "  [1. 1.]\n",
      "  [1. 1.]]\n",
      "\n",
      " [[1. 1.]\n",
      "  [1. 1.]\n",
      "  [1. 1.]]\n",
      "\n",
      " [[1. 1.]\n",
      "  [1. 1.]\n",
      "  [1. 1.]]\n",
      "\n",
      " [[1. 1.]\n",
      "  [1. 1.]\n",
      "  [1. 1.]]\n",
      "\n",
      " [[1. 1.]\n",
      "  [1. 1.]\n",
      "  [1. 1.]]]\n"
     ]
    }
   ],
   "source": [
    "# your code here\n",
    "print(b)"
   ]
  },
  {
   "cell_type": "markdown",
   "metadata": {},
   "source": [
    "#### 7. Do *a* and *b* have the same size? How do you prove that in Python code?"
   ]
  },
  {
   "cell_type": "code",
   "execution_count": 11,
   "metadata": {},
   "outputs": [
    {
     "data": {
      "text/plain": [
       "True"
      ]
     },
     "execution_count": 11,
     "metadata": {},
     "output_type": "execute_result"
    }
   ],
   "source": [
    "# your code here\n",
    "a.size == b.size"
   ]
  },
  {
   "cell_type": "markdown",
   "metadata": {},
   "source": [
    "#### 8. Are you able to add *a* and *b*? Why or why not?\n"
   ]
  },
  {
   "cell_type": "code",
   "execution_count": 12,
   "metadata": {},
   "outputs": [
    {
     "ename": "ValueError",
     "evalue": "operands could not be broadcast together with shapes (2,3,5) (5,3,2) ",
     "output_type": "error",
     "traceback": [
      "\u001b[0;31m---------------------------------------------------------------------------\u001b[0m",
      "\u001b[0;31mValueError\u001b[0m                                Traceback (most recent call last)",
      "\u001b[0;32m<ipython-input-12-6243e940bd8f>\u001b[0m in \u001b[0;36m<module>\u001b[0;34m\u001b[0m\n\u001b[1;32m      1\u001b[0m \u001b[0;31m# your answer here\u001b[0m\u001b[0;34m\u001b[0m\u001b[0;34m\u001b[0m\u001b[0;34m\u001b[0m\u001b[0m\n\u001b[1;32m      2\u001b[0m \u001b[0;31m# You cant add them because they dont have the same shape!\u001b[0m\u001b[0;34m\u001b[0m\u001b[0;34m\u001b[0m\u001b[0;34m\u001b[0m\u001b[0m\n\u001b[0;32m----> 3\u001b[0;31m \u001b[0mprint\u001b[0m\u001b[0;34m(\u001b[0m\u001b[0ma\u001b[0m \u001b[0;34m+\u001b[0m \u001b[0mb\u001b[0m\u001b[0;34m)\u001b[0m\u001b[0;34m\u001b[0m\u001b[0;34m\u001b[0m\u001b[0m\n\u001b[0m",
      "\u001b[0;31mValueError\u001b[0m: operands could not be broadcast together with shapes (2,3,5) (5,3,2) "
     ]
    }
   ],
   "source": [
    "# your answer here\n",
    "# You cant add them because they dont have the same shape!\n",
    "print(a + b)"
   ]
  },
  {
   "cell_type": "markdown",
   "metadata": {},
   "source": [
    "#### 9. Transpose *b* so that it has the same structure of *a* (i.e. become a 2x3x5 array). Assign the transposed array to variable *c*.\n",
    "\n",
    "**Hint**: search for `np.transpose`"
   ]
  },
  {
   "cell_type": "code",
   "execution_count": 13,
   "metadata": {},
   "outputs": [
    {
     "name": "stdout",
     "output_type": "stream",
     "text": [
      "[[[1. 1. 1. 1. 1.]\n",
      "  [1. 1. 1. 1. 1.]\n",
      "  [1. 1. 1. 1. 1.]]\n",
      "\n",
      " [[1. 1. 1. 1. 1.]\n",
      "  [1. 1. 1. 1. 1.]\n",
      "  [1. 1. 1. 1. 1.]]]\n"
     ]
    }
   ],
   "source": [
    "# your code here\n",
    "c = np.reshape(b, (2,3,5))\n",
    "print(c)"
   ]
  },
  {
   "cell_type": "markdown",
   "metadata": {},
   "source": [
    "#### 10. Try to add *a* and *c*. Now it should work. Assign the sum to variable *d*. But why does it work now?"
   ]
  },
  {
   "cell_type": "code",
   "execution_count": 14,
   "metadata": {},
   "outputs": [
    {
     "name": "stdout",
     "output_type": "stream",
     "text": [
      "[[[1.39081758 1.91592776 1.64177224 1.23649816 1.93410343]\n",
      "  [1.94922711 1.24172548 1.79578745 1.09831732 1.71567027]\n",
      "  [1.95066194 1.15647249 1.34594066 1.59782275 1.89309087]]\n",
      "\n",
      " [[1.1588084  1.50704356 1.63601393 1.93271946 1.15710614]\n",
      "  [1.30654266 1.10424907 1.12346093 1.1915759  1.22836841]\n",
      "  [1.36603261 1.91489244 1.86624534 1.10308593 1.51178912]]]\n"
     ]
    }
   ],
   "source": [
    "# your code/answer here\n",
    "# It works because they both have the same shape now!\n",
    "d = a + c\n",
    "print(d)"
   ]
  },
  {
   "cell_type": "markdown",
   "metadata": {},
   "source": [
    "#### 11. Print *a* and *d*. Notice the difference and relation of the two array in terms of the values? Explain."
   ]
  },
  {
   "cell_type": "code",
   "execution_count": 15,
   "metadata": {},
   "outputs": [
    {
     "name": "stdout",
     "output_type": "stream",
     "text": [
      "[[[0.39081758 0.91592776 0.64177224 0.23649816 0.93410343]\n",
      "  [0.94922711 0.24172548 0.79578745 0.09831732 0.71567027]\n",
      "  [0.95066194 0.15647249 0.34594066 0.59782275 0.89309087]]\n",
      "\n",
      " [[0.1588084  0.50704356 0.63601393 0.93271946 0.15710614]\n",
      "  [0.30654266 0.10424907 0.12346093 0.1915759  0.22836841]\n",
      "  [0.36603261 0.91489244 0.86624534 0.10308593 0.51178912]]]\n",
      "\n",
      "\n",
      "[[[1.39081758 1.91592776 1.64177224 1.23649816 1.93410343]\n",
      "  [1.94922711 1.24172548 1.79578745 1.09831732 1.71567027]\n",
      "  [1.95066194 1.15647249 1.34594066 1.59782275 1.89309087]]\n",
      "\n",
      " [[1.1588084  1.50704356 1.63601393 1.93271946 1.15710614]\n",
      "  [1.30654266 1.10424907 1.12346093 1.1915759  1.22836841]\n",
      "  [1.36603261 1.91489244 1.86624534 1.10308593 1.51178912]]]\n"
     ]
    }
   ],
   "source": [
    "# your code/answer here\n",
    "# we added the 1 from each index of array c to the values of a, so they just increased by 1.\n",
    "print(a)\n",
    "print(\"\\n\")\n",
    "print(d)"
   ]
  },
  {
   "cell_type": "markdown",
   "metadata": {},
   "source": [
    "#### 12. Multiply *a* and *c*. Assign the result to *e*."
   ]
  },
  {
   "cell_type": "code",
   "execution_count": 16,
   "metadata": {},
   "outputs": [
    {
     "name": "stdout",
     "output_type": "stream",
     "text": [
      "[[[0.39081758 0.91592776 0.64177224 0.23649816 0.93410343]\n",
      "  [0.94922711 0.24172548 0.79578745 0.09831732 0.71567027]\n",
      "  [0.95066194 0.15647249 0.34594066 0.59782275 0.89309087]]\n",
      "\n",
      " [[0.1588084  0.50704356 0.63601393 0.93271946 0.15710614]\n",
      "  [0.30654266 0.10424907 0.12346093 0.1915759  0.22836841]\n",
      "  [0.36603261 0.91489244 0.86624534 0.10308593 0.51178912]]]\n"
     ]
    }
   ],
   "source": [
    "# your code here\n",
    "e = a*c\n",
    "print(e)"
   ]
  },
  {
   "cell_type": "markdown",
   "metadata": {},
   "source": [
    "#### 13. Does *e* equal to *a*? Why or why not?\n"
   ]
  },
  {
   "cell_type": "code",
   "execution_count": 17,
   "metadata": {},
   "outputs": [
    {
     "data": {
      "text/plain": [
       "array([[[ True,  True,  True,  True,  True],\n",
       "        [ True,  True,  True,  True,  True],\n",
       "        [ True,  True,  True,  True,  True]],\n",
       "\n",
       "       [[ True,  True,  True,  True,  True],\n",
       "        [ True,  True,  True,  True,  True],\n",
       "        [ True,  True,  True,  True,  True]]])"
      ]
     },
     "execution_count": 17,
     "metadata": {},
     "output_type": "execute_result"
    }
   ],
   "source": [
    "# your code/answer here\n",
    "# Yes its the same, because you just multiply it by one according to c.\n",
    "a == e "
   ]
  },
  {
   "cell_type": "markdown",
   "metadata": {},
   "source": [
    "#### 14. Identify the max, min, and mean values in *d*. Assign those values to variables *d_max*, *d_min* and *d_mean*."
   ]
  },
  {
   "cell_type": "code",
   "execution_count": 18,
   "metadata": {},
   "outputs": [
    {
     "name": "stdout",
     "output_type": "stream",
     "text": [
      "1.9506619445716324\n",
      "1.0983173204754975\n",
      "1.499058981076453\n"
     ]
    }
   ],
   "source": [
    "# your code here\n",
    "d_max = np.max(d)\n",
    "d_min = np.min(d)\n",
    "d_mean = np.mean(d)\n",
    "\n",
    "print(d_max)\n",
    "print(d_min)\n",
    "print(d_mean)"
   ]
  },
  {
   "cell_type": "markdown",
   "metadata": {},
   "source": [
    "#### 15. Now we want to label the values in *d*. First create an empty array *f* with the same shape (i.e. 2x3x5) as *d* using `np.zeros`.\n"
   ]
  },
  {
   "cell_type": "code",
   "execution_count": 19,
   "metadata": {},
   "outputs": [
    {
     "data": {
      "text/plain": [
       "array([[[0., 0., 0., 0., 0.],\n",
       "        [0., 0., 0., 0., 0.],\n",
       "        [0., 0., 0., 0., 0.]],\n",
       "\n",
       "       [[0., 0., 0., 0., 0.],\n",
       "        [0., 0., 0., 0., 0.],\n",
       "        [0., 0., 0., 0., 0.]]])"
      ]
     },
     "execution_count": 19,
     "metadata": {},
     "output_type": "execute_result"
    }
   ],
   "source": [
    "# your code here\n",
    "f = np.zeros((2,3,5))\n",
    "f"
   ]
  },
  {
   "cell_type": "markdown",
   "metadata": {},
   "source": [
    "#### 16. Populate the values in *f*. \n",
    "\n",
    "For each value in *d*, if it's larger than *d_min* but smaller than *d_mean*, assign 25 to the corresponding value in *f*. If a value in *d* is larger than *d_mean* but smaller than *d_max*, assign 75 to the corresponding value in *f*. If a value equals to *d_mean*, assign 50 to the corresponding value in *f*. Assign 0 to the corresponding value(s) in *f* for *d_min* in *d*. Assign 100 to the corresponding value(s) in *f* for *d_max* in *d*. In the end, f should have only the following values: 0, 25, 50, 75, and 100.\n",
    "\n",
    "**Note**: you don't have to use Numpy in this question."
   ]
  },
  {
   "cell_type": "code",
   "execution_count": 20,
   "metadata": {},
   "outputs": [
    {
     "name": "stdout",
     "output_type": "stream",
     "text": [
      "[[[ 25.  75.  75.  25.  75.]\n",
      "  [ 75.  25.  75.   0.  75.]\n",
      "  [100.  25.  25.  75.  75.]]\n",
      "\n",
      " [[ 25.  75.  75.  75.  25.]\n",
      "  [ 25.  25.  25.  25.  25.]\n",
      "  [ 25.  75.  75.  25.  75.]]]\n"
     ]
    }
   ],
   "source": [
    "# your code here\n",
    "f[(d>d_min)&(d<d_mean)]=25\n",
    "f[(d<d_max) & (d>d_mean)]=75\n",
    "f[d==d_mean]=50\n",
    "f[d==d_max]=100\n",
    "f[d==d_min]=0\n",
    "\n",
    "print(f)"
   ]
  },
  {
   "cell_type": "markdown",
   "metadata": {},
   "source": [
    "#### 17. Print *d* and *f*. Do you have your expected *f*?\n",
    "For instance, if your *d* is:\n",
    "```python\n",
    "[[[1.85836099, 1.67064465, 1.62576044, 1.40243961, 1.88454931],\n",
    "[1.75354326, 1.69403643, 1.36729252, 1.61415071, 1.12104981],\n",
    "[1.72201435, 1.1862918 , 1.87078449, 1.7726778 , 1.88180042]],\n",
    "[[1.44747908, 1.31673383, 1.02000951, 1.52218947, 1.97066381],\n",
    "[1.79129243, 1.74983003, 1.96028037, 1.85166831, 1.65450881],\n",
    "[1.18068344, 1.9587381 , 1.00656599, 1.93402165, 1.73514584]]]\n",
    "```\n",
    "Your *f* should be:\n",
    "```python\n",
    "[[[ 75.,  75.,  75.,  25.,  75.],\n",
    "[ 75.,  75.,  25.,  25.,  25.],\n",
    "[ 75.,  25.,  75.,  75.,  75.]],\n",
    "[[ 25.,  25.,  25.,  25., 100.],\n",
    "[ 75.,  75.,  75.,  75.,  75.],\n",
    "[ 25.,  75.,   0.,  75.,  75.]]]\n",
    "```"
   ]
  },
  {
   "cell_type": "code",
   "execution_count": 21,
   "metadata": {},
   "outputs": [
    {
     "name": "stdout",
     "output_type": "stream",
     "text": [
      "[[[ 25.  75.  75.  25.  75.]\n",
      "  [ 75.  25.  75.   0.  75.]\n",
      "  [100.  25.  25.  75.  75.]]\n",
      "\n",
      " [[ 25.  75.  75.  75.  25.]\n",
      "  [ 25.  25.  25.  25.  25.]\n",
      "  [ 25.  75.  75.  25.  75.]]]\n",
      "\n",
      "\n",
      "[[[1.39081758 1.91592776 1.64177224 1.23649816 1.93410343]\n",
      "  [1.94922711 1.24172548 1.79578745 1.09831732 1.71567027]\n",
      "  [1.95066194 1.15647249 1.34594066 1.59782275 1.89309087]]\n",
      "\n",
      " [[1.1588084  1.50704356 1.63601393 1.93271946 1.15710614]\n",
      "  [1.30654266 1.10424907 1.12346093 1.1915759  1.22836841]\n",
      "  [1.36603261 1.91489244 1.86624534 1.10308593 1.51178912]]]\n"
     ]
    }
   ],
   "source": [
    "# your code here\n",
    "print(f)\n",
    "print(\"\\n\")\n",
    "print(d)"
   ]
  },
  {
   "cell_type": "markdown",
   "metadata": {},
   "source": [
    "#### 18. Bonus question: instead of using numbers (i.e. 0, 25, 50, 75, and 100), use string values  (\"A\", \"B\", \"C\", \"D\", and \"E\") to label the array elements. For the example above, the expected result is:\n",
    "\n",
    "```python\n",
    "[[[ 'D',  'D',  'D',  'B',  'D'],\n",
    "[ 'D',  'D',  'B',  'B',  'B'],\n",
    "[ 'D',  'B',  'D',  'D',  'D']],\n",
    "[[ 'B',  'B',  'B',  'B',  'E'],\n",
    "[ 'D',  'D',  'D',  'D',  'D'],\n",
    "[ 'B',  'D',   'A',  'D', 'D']]]\n",
    "```\n",
    "**Note**: you don't have to use Numpy in this question."
   ]
  },
  {
   "cell_type": "code",
   "execution_count": null,
   "metadata": {},
   "outputs": [],
   "source": [
    "# your code here"
   ]
  }
 ],
 "metadata": {
  "kernelspec": {
   "display_name": "Python 3",
   "language": "python",
   "name": "python3"
  },
  "language_info": {
   "codemirror_mode": {
    "name": "ipython",
    "version": 3
   },
   "file_extension": ".py",
   "mimetype": "text/x-python",
   "name": "python",
   "nbconvert_exporter": "python",
   "pygments_lexer": "ipython3",
   "version": "3.8.5"
  }
 },
 "nbformat": 4,
 "nbformat_minor": 2
}
