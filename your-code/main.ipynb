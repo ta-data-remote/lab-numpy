{
 "cells": [
  {
   "cell_type": "markdown",
   "metadata": {},
   "source": [
    "# Intrduction to NumPy\n",
    "\n",
    "\n",
    "#### 1. Import NumPy under the name np."
   ]
  },
  {
   "cell_type": "code",
   "execution_count": 35,
   "metadata": {
    "ExecuteTime": {
     "end_time": "2021-03-30T14:33:40.641557Z",
     "start_time": "2021-03-30T14:33:40.628222Z"
    }
   },
   "outputs": [],
   "source": [
    "import numpy as np"
   ]
  },
  {
   "cell_type": "markdown",
   "metadata": {},
   "source": [
    "#### 2. Print your NumPy version."
   ]
  },
  {
   "cell_type": "code",
   "execution_count": 36,
   "metadata": {
    "ExecuteTime": {
     "end_time": "2021-03-30T14:33:41.559251Z",
     "start_time": "2021-03-30T14:33:41.519918Z"
    }
   },
   "outputs": [
    {
     "data": {
      "text/plain": [
       "'1.20.2'"
      ]
     },
     "execution_count": 36,
     "metadata": {},
     "output_type": "execute_result"
    }
   ],
   "source": [
    "np.__version__"
   ]
  },
  {
   "cell_type": "markdown",
   "metadata": {},
   "source": [
    "#### 3. Generate a 2x3x5 3-dimensional array with random values. Assign the array to variable *a*.\n",
    "**Challenge**: there are at least three easy ways that use numpy to generate random arrays. How many ways can you find?\n",
    "**Hint**: look for `np.random` and search for functions you want to use.\n",
    "\n",
    "The outcomes should look like:\n",
    "```python\n",
    "array([[[ 0.00453782,  0.47251152,  0.65513617,  0.89370211,  0.91464052],\n",
    "        [ 0.35606786,  0.68149792,  0.37211451,  0.2493357 ,  0.66608051],\n",
    "        [ 0.71459267,  0.68722356,  0.20916865,  0.98338451,  0.28154909]],\n",
    "\n",
    "       [[ 0.83752622,  0.12378486,  0.77380373,  0.43270332,  0.26392168],\n",
    "        [ 0.02528723,  0.5352501 ,  0.35521185,  0.05175587,  0.64898055],\n",
    "        [ 0.52616383,  0.94453068,  0.17055731,  0.15094225,  0.63495276]]])\n",
    "```\n",
    "*The values do not need to be the same. Remember that you are creating random numbers.*"
   ]
  },
  {
   "cell_type": "code",
   "execution_count": 37,
   "metadata": {
    "ExecuteTime": {
     "end_time": "2021-03-30T14:33:42.723722Z",
     "start_time": "2021-03-30T14:33:42.709374Z"
    }
   },
   "outputs": [
    {
     "name": "stdout",
     "output_type": "stream",
     "text": [
      "[[[0.6081493  0.86208354 0.56403985 0.46397238 0.59544289]\n",
      "  [0.10562904 0.43571496 0.49952062 0.08135973 0.86229178]\n",
      "  [0.41313803 0.36495646 0.4389265  0.23239239 0.15797615]]\n",
      "\n",
      " [[0.66598743 0.34174784 0.09598615 0.67350649 0.22584448]\n",
      "  [0.32185752 0.35010225 0.287649   0.28626435 0.94682377]\n",
      "  [0.9731305  0.05695191 0.86646163 0.63712946 0.08069401]]]\n"
     ]
    }
   ],
   "source": [
    "# Method 1\n",
    "a = np.random.random([2,3,5])\n",
    "print(a)"
   ]
  },
  {
   "cell_type": "code",
   "execution_count": 38,
   "metadata": {
    "ExecuteTime": {
     "end_time": "2021-03-30T14:33:43.626064Z",
     "start_time": "2021-03-30T14:33:43.600471Z"
    }
   },
   "outputs": [
    {
     "name": "stdout",
     "output_type": "stream",
     "text": [
      "[[[0.15725321 0.91160217 0.57941136 0.80859257 0.9883052 ]\n",
      "  [0.56955991 0.73777864 0.87693129 0.01102938 0.55188832]\n",
      "  [0.32888506 0.14233514 0.89081943 0.30351449 0.38326318]]\n",
      "\n",
      " [[0.27143669 0.35633674 0.82004672 0.85486611 0.31893794]\n",
      "  [0.11946949 0.0831813  0.81476809 0.08369259 0.9817324 ]\n",
      "  [0.87228852 0.9954462  0.62479106 0.7353069  0.66600283]]]\n"
     ]
    }
   ],
   "source": [
    "# Method 2\n",
    "rand_2 = np.random.ranf([2,3,5])\n",
    "print(rand_2)"
   ]
  },
  {
   "cell_type": "markdown",
   "metadata": {},
   "source": [
    "#### 4. Print *a*.\n"
   ]
  },
  {
   "cell_type": "code",
   "execution_count": 39,
   "metadata": {
    "ExecuteTime": {
     "end_time": "2021-03-30T14:33:44.599363Z",
     "start_time": "2021-03-30T14:33:44.564389Z"
    }
   },
   "outputs": [
    {
     "name": "stdout",
     "output_type": "stream",
     "text": [
      "[[[0.32830352 0.83318723 0.17282632 0.4099894  0.80775335]\n",
      "  [0.21447646 0.73987181 0.04958143 0.08156052 0.91846585]\n",
      "  [0.025048   0.44221116 0.81719001 0.00448163 0.61274584]]\n",
      "\n",
      " [[0.27889017 0.85468585 0.53913722 0.67275851 0.94260954]\n",
      "  [0.59547465 0.35255643 0.28995114 0.4436712  0.64231787]\n",
      "  [0.51715839 0.95742237 0.43833362 0.14742668 0.91865497]]]\n"
     ]
    }
   ],
   "source": [
    "# Method 3\n",
    "\n",
    "rand_3 = np.random.random_sample([2,3,5])\n",
    "print(rand_3)"
   ]
  },
  {
   "cell_type": "code",
   "execution_count": 40,
   "metadata": {
    "ExecuteTime": {
     "end_time": "2021-03-30T14:33:45.428794Z",
     "start_time": "2021-03-30T14:33:45.401637Z"
    }
   },
   "outputs": [
    {
     "name": "stdout",
     "output_type": "stream",
     "text": [
      "[[[0.6081493  0.86208354 0.56403985 0.46397238 0.59544289]\n",
      "  [0.10562904 0.43571496 0.49952062 0.08135973 0.86229178]\n",
      "  [0.41313803 0.36495646 0.4389265  0.23239239 0.15797615]]\n",
      "\n",
      " [[0.66598743 0.34174784 0.09598615 0.67350649 0.22584448]\n",
      "  [0.32185752 0.35010225 0.287649   0.28626435 0.94682377]\n",
      "  [0.9731305  0.05695191 0.86646163 0.63712946 0.08069401]]]\n"
     ]
    }
   ],
   "source": [
    "# your code here\n",
    "print(a)"
   ]
  },
  {
   "cell_type": "markdown",
   "metadata": {},
   "source": [
    "#### 5. Create a 5x2x3 3-dimensional array with all values equaling 1. Assign the array to variable *b*.\n",
    "\n",
    "The outcome should look like:\n",
    "```python\n",
    "[[[ 1.  1.  1.]\n",
    "  [ 1.  1.  1.]]\n",
    "\n",
    " [[ 1.  1.  1.]\n",
    "  [ 1.  1.  1.]]\n",
    "\n",
    " [[ 1.  1.  1.]\n",
    "  [ 1.  1.  1.]]\n",
    "\n",
    " [[ 1.  1.  1.]\n",
    "  [ 1.  1.  1.]]\n",
    "\n",
    " [[ 1.  1.  1.]\n",
    "  [ 1.  1.  1.]]]\n",
    "```"
   ]
  },
  {
   "cell_type": "code",
   "execution_count": 41,
   "metadata": {
    "ExecuteTime": {
     "end_time": "2021-03-30T14:33:46.667208Z",
     "start_time": "2021-03-30T14:33:46.631118Z"
    }
   },
   "outputs": [],
   "source": [
    "b = np.ones([5,2,3])"
   ]
  },
  {
   "cell_type": "markdown",
   "metadata": {},
   "source": [
    "#### 6. Print *b*.\n"
   ]
  },
  {
   "cell_type": "code",
   "execution_count": 42,
   "metadata": {
    "ExecuteTime": {
     "end_time": "2021-03-30T14:33:47.867434Z",
     "start_time": "2021-03-30T14:33:47.828809Z"
    }
   },
   "outputs": [
    {
     "name": "stdout",
     "output_type": "stream",
     "text": [
      "[[[1. 1. 1.]\n",
      "  [1. 1. 1.]]\n",
      "\n",
      " [[1. 1. 1.]\n",
      "  [1. 1. 1.]]\n",
      "\n",
      " [[1. 1. 1.]\n",
      "  [1. 1. 1.]]\n",
      "\n",
      " [[1. 1. 1.]\n",
      "  [1. 1. 1.]]\n",
      "\n",
      " [[1. 1. 1.]\n",
      "  [1. 1. 1.]]]\n"
     ]
    }
   ],
   "source": [
    "print(b)"
   ]
  },
  {
   "cell_type": "markdown",
   "metadata": {},
   "source": [
    "#### 7. Do *a* and *b* have the same size? How do you prove that in Python code?"
   ]
  },
  {
   "cell_type": "code",
   "execution_count": 43,
   "metadata": {
    "ExecuteTime": {
     "end_time": "2021-03-30T14:33:49.329462Z",
     "start_time": "2021-03-30T14:33:49.294052Z"
    }
   },
   "outputs": [
    {
     "data": {
      "text/plain": [
       "True"
      ]
     },
     "execution_count": 43,
     "metadata": {},
     "output_type": "execute_result"
    }
   ],
   "source": [
    "np.size(a) == np.size(b)"
   ]
  },
  {
   "cell_type": "markdown",
   "metadata": {},
   "source": [
    "#### 8. Are you able to add *a* and *b*? Why or why not?\n"
   ]
  },
  {
   "cell_type": "code",
   "execution_count": 44,
   "metadata": {
    "ExecuteTime": {
     "end_time": "2021-03-30T14:33:51.227544Z",
     "start_time": "2021-03-30T14:33:51.199491Z"
    }
   },
   "outputs": [],
   "source": [
    "#c = a + b  ---> Returns: ValueError: operands could not be broadcast together with shapes (2,3,5) (5,2,3)\n",
    "\n",
    "# Even though they have the same size, they don't have the same shape so the computer doesn't know how to match\n",
    "# elements from one with elements from the other"
   ]
  },
  {
   "cell_type": "markdown",
   "metadata": {},
   "source": [
    "#### 9. Transpose *b* so that it has the same structure of *a* (i.e. become a 2x3x5 array). Assign the transposed array to variable *c*.\n",
    "\n",
    "**Hint**: search for `np.transpose`"
   ]
  },
  {
   "cell_type": "code",
   "execution_count": 45,
   "metadata": {
    "ExecuteTime": {
     "end_time": "2021-03-30T14:33:52.708037Z",
     "start_time": "2021-03-30T14:33:52.664705Z"
    }
   },
   "outputs": [
    {
     "name": "stdout",
     "output_type": "stream",
     "text": [
      "[[[1. 1. 1. 1. 1.]\n",
      "  [1. 1. 1. 1. 1.]\n",
      "  [1. 1. 1. 1. 1.]]\n",
      "\n",
      " [[1. 1. 1. 1. 1.]\n",
      "  [1. 1. 1. 1. 1.]\n",
      "  [1. 1. 1. 1. 1.]]]\n"
     ]
    },
    {
     "data": {
      "text/plain": [
       "(2, 3, 5)"
      ]
     },
     "execution_count": 45,
     "metadata": {},
     "output_type": "execute_result"
    }
   ],
   "source": [
    "c = np.transpose(b,[1,2,0])\n",
    "\n",
    "print(c)\n",
    "np.shape(c)"
   ]
  },
  {
   "cell_type": "markdown",
   "metadata": {},
   "source": [
    "#### 10. Try to add *a* and *c*. Now it should work. Assign the sum to variable *d*. But why does it work now?"
   ]
  },
  {
   "cell_type": "code",
   "execution_count": 46,
   "metadata": {
    "ExecuteTime": {
     "end_time": "2021-03-30T14:33:53.969633Z",
     "start_time": "2021-03-30T14:33:53.926859Z"
    }
   },
   "outputs": [
    {
     "name": "stdout",
     "output_type": "stream",
     "text": [
      "[[[1.6081493  1.86208354 1.56403985 1.46397238 1.59544289]\n",
      "  [1.10562904 1.43571496 1.49952062 1.08135973 1.86229178]\n",
      "  [1.41313803 1.36495646 1.4389265  1.23239239 1.15797615]]\n",
      "\n",
      " [[1.66598743 1.34174784 1.09598615 1.67350649 1.22584448]\n",
      "  [1.32185752 1.35010225 1.287649   1.28626435 1.94682377]\n",
      "  [1.9731305  1.05695191 1.86646163 1.63712946 1.08069401]]]\n"
     ]
    }
   ],
   "source": [
    "d = a+c\n",
    "\n",
    "print(d)"
   ]
  },
  {
   "cell_type": "markdown",
   "metadata": {},
   "source": [
    "#### 11. Print *a* and *d*. Notice the difference and relation of the two array in terms of the values? Explain."
   ]
  },
  {
   "cell_type": "code",
   "execution_count": 47,
   "metadata": {
    "ExecuteTime": {
     "end_time": "2021-03-30T14:33:55.139792Z",
     "start_time": "2021-03-30T14:33:55.096001Z"
    }
   },
   "outputs": [
    {
     "name": "stdout",
     "output_type": "stream",
     "text": [
      "[[[0.6081493  0.86208354 0.56403985 0.46397238 0.59544289]\n",
      "  [0.10562904 0.43571496 0.49952062 0.08135973 0.86229178]\n",
      "  [0.41313803 0.36495646 0.4389265  0.23239239 0.15797615]]\n",
      "\n",
      " [[0.66598743 0.34174784 0.09598615 0.67350649 0.22584448]\n",
      "  [0.32185752 0.35010225 0.287649   0.28626435 0.94682377]\n",
      "  [0.9731305  0.05695191 0.86646163 0.63712946 0.08069401]]]\n",
      "[[[1.6081493  1.86208354 1.56403985 1.46397238 1.59544289]\n",
      "  [1.10562904 1.43571496 1.49952062 1.08135973 1.86229178]\n",
      "  [1.41313803 1.36495646 1.4389265  1.23239239 1.15797615]]\n",
      "\n",
      " [[1.66598743 1.34174784 1.09598615 1.67350649 1.22584448]\n",
      "  [1.32185752 1.35010225 1.287649   1.28626435 1.94682377]\n",
      "  [1.9731305  1.05695191 1.86646163 1.63712946 1.08069401]]]\n"
     ]
    }
   ],
   "source": [
    "print(a)\n",
    "print(d)\n",
    "\n",
    "# Each value has been incremented by 1. This makes sense as d=a+c and c has 1 in every position."
   ]
  },
  {
   "cell_type": "markdown",
   "metadata": {},
   "source": [
    "#### 12. Multiply *a* and *c*. Assign the result to *e*."
   ]
  },
  {
   "cell_type": "code",
   "execution_count": 48,
   "metadata": {
    "ExecuteTime": {
     "end_time": "2021-03-30T14:33:56.377371Z",
     "start_time": "2021-03-30T14:33:56.340547Z"
    }
   },
   "outputs": [
    {
     "name": "stdout",
     "output_type": "stream",
     "text": [
      "[[[0.6081493  0.86208354 0.56403985 0.46397238 0.59544289]\n",
      "  [0.10562904 0.43571496 0.49952062 0.08135973 0.86229178]\n",
      "  [0.41313803 0.36495646 0.4389265  0.23239239 0.15797615]]\n",
      "\n",
      " [[0.66598743 0.34174784 0.09598615 0.67350649 0.22584448]\n",
      "  [0.32185752 0.35010225 0.287649   0.28626435 0.94682377]\n",
      "  [0.9731305  0.05695191 0.86646163 0.63712946 0.08069401]]]\n"
     ]
    }
   ],
   "source": [
    "e = a*c\n",
    "print(e)"
   ]
  },
  {
   "cell_type": "markdown",
   "metadata": {},
   "source": [
    "#### 13. Does *e* equal to *a*? Why or why not?\n"
   ]
  },
  {
   "cell_type": "code",
   "execution_count": 49,
   "metadata": {
    "ExecuteTime": {
     "end_time": "2021-03-30T14:33:57.607140Z",
     "start_time": "2021-03-30T14:33:57.546158Z"
    }
   },
   "outputs": [
    {
     "data": {
      "text/plain": [
       "array([[[ True,  True,  True,  True,  True],\n",
       "        [ True,  True,  True,  True,  True],\n",
       "        [ True,  True,  True,  True,  True]],\n",
       "\n",
       "       [[ True,  True,  True,  True,  True],\n",
       "        [ True,  True,  True,  True,  True],\n",
       "        [ True,  True,  True,  True,  True]]])"
      ]
     },
     "execution_count": 49,
     "metadata": {},
     "output_type": "execute_result"
    }
   ],
   "source": [
    "e == a\n",
    "\n",
    "#Yes, because when multiplying two arrays of the same shape, each value in the array will be multiplied\n",
    "# by the value that has the exact same position in the other array. As every element in c is 1, multiplying\n",
    "# a*c leaves a as it was"
   ]
  },
  {
   "cell_type": "markdown",
   "metadata": {},
   "source": [
    "#### 14. Identify the max, min, and mean values in *d*. Assign those values to variables *d_max*, *d_min* and *d_mean*."
   ]
  },
  {
   "cell_type": "code",
   "execution_count": 70,
   "metadata": {
    "ExecuteTime": {
     "end_time": "2021-03-30T14:39:08.105333Z",
     "start_time": "2021-03-30T14:39:08.087036Z"
    }
   },
   "outputs": [
    {
     "name": "stdout",
     "output_type": "stream",
     "text": [
      "1.9731305020282135\n",
      "1.0569519132349594\n",
      "1.449857681602641\n"
     ]
    }
   ],
   "source": [
    "d_max = np.max(d)\n",
    "print(d_max)\n",
    "\n",
    "d_min = np.min(d)\n",
    "print(d_min)\n",
    "\n",
    "d_mean = np.mean(d)\n",
    "print(d_mean)"
   ]
  },
  {
   "cell_type": "markdown",
   "metadata": {},
   "source": [
    "#### 15. Now we want to label the values in *d*. First create an empty array *f* with the same shape (i.e. 2x3x5) as *d* using `np.empty`.\n"
   ]
  },
  {
   "cell_type": "code",
   "execution_count": 68,
   "metadata": {
    "ExecuteTime": {
     "end_time": "2021-03-30T14:39:03.848460Z",
     "start_time": "2021-03-30T14:39:03.843952Z"
    }
   },
   "outputs": [],
   "source": [
    "f = np.empty((2,3,5))"
   ]
  },
  {
   "cell_type": "markdown",
   "metadata": {},
   "source": [
    "#### 16. Populate the values in *f*. \n",
    "\n",
    "For each value in *d*, if it's larger than *d_min* but smaller than *d_mean*, assign 25 to the corresponding value in *f*. If a value in *d* is larger than *d_mean* but smaller than *d_max*, assign 75 to the corresponding value in *f*. If a value equals to *d_mean*, assign 50 to the corresponding value in *f*. Assign 0 to the corresponding value(s) in *f* for *d_min* in *d*. Assign 100 to the corresponding value(s) in *f* for *d_max* in *d*. In the end, f should have only the following values: 0, 25, 50, 75, and 100.\n",
    "\n",
    "**Note**: you don't have to use Numpy in this question."
   ]
  },
  {
   "cell_type": "code",
   "execution_count": 75,
   "metadata": {
    "ExecuteTime": {
     "end_time": "2021-03-30T14:39:46.346450Z",
     "start_time": "2021-03-30T14:39:46.324723Z"
    }
   },
   "outputs": [
    {
     "name": "stdout",
     "output_type": "stream",
     "text": [
      "[[[ 75.  75.  75.  75.  75.]\n",
      "  [ 25.  25.  75.  25.  75.]\n",
      "  [ 25.  25.  25.  25.  25.]]\n",
      "\n",
      " [[ 75.  25.  25.  75.  25.]\n",
      "  [ 25.  25.  25.  25.  75.]\n",
      "  [100.   0.  75.  75.  25.]]]\n"
     ]
    }
   ],
   "source": [
    "f[((d<d_mean)& (d>d_min))] = 25\n",
    "f[((d>d_mean)&(d<d_max))] = 75\n",
    "f[(d==d_min)] = 0\n",
    "f[(d==d_mean)] = 50\n",
    "f[(d==d_max)] = 100\n",
    "print(f)\n"
   ]
  },
  {
   "cell_type": "markdown",
   "metadata": {},
   "source": [
    "#### 17. Print *d* and *f*. Do you have your expected *f*?\n",
    "For instance, if your *d* is:\n",
    "```python\n",
    "[[[1.85836099, 1.67064465, 1.62576044, 1.40243961, 1.88454931],\n",
    "[1.75354326, 1.69403643, 1.36729252, 1.61415071, 1.12104981],\n",
    "[1.72201435, 1.1862918 , 1.87078449, 1.7726778 , 1.88180042]],\n",
    "[[1.44747908, 1.31673383, 1.02000951, 1.52218947, 1.97066381],\n",
    "[1.79129243, 1.74983003, 1.96028037, 1.85166831, 1.65450881],\n",
    "[1.18068344, 1.9587381 , 1.00656599, 1.93402165, 1.73514584]]]\n",
    "```\n",
    "Your *f* should be:\n",
    "```python\n",
    "[[[ 75.,  75.,  75.,  25.,  75.],\n",
    "[ 75.,  75.,  25.,  25.,  25.],\n",
    "[ 75.,  25.,  75.,  75.,  75.]],\n",
    "[[ 25.,  25.,  25.,  25., 100.],\n",
    "[ 75.,  75.,  75.,  75.,  75.],\n",
    "[ 25.,  75.,   0.,  75.,  75.]]]\n",
    "```"
   ]
  },
  {
   "cell_type": "code",
   "execution_count": 81,
   "metadata": {
    "ExecuteTime": {
     "end_time": "2021-03-30T14:41:05.190880Z",
     "start_time": "2021-03-30T14:41:05.147662Z"
    }
   },
   "outputs": [
    {
     "name": "stdout",
     "output_type": "stream",
     "text": [
      "[[[1.6081493  1.86208354 1.56403985 1.46397238 1.59544289]\n",
      "  [1.10562904 1.43571496 1.49952062 1.08135973 1.86229178]\n",
      "  [1.41313803 1.36495646 1.4389265  1.23239239 1.15797615]]\n",
      "\n",
      " [[1.66598743 1.34174784 1.09598615 1.67350649 1.22584448]\n",
      "  [1.32185752 1.35010225 1.287649   1.28626435 1.94682377]\n",
      "  [1.9731305  1.05695191 1.86646163 1.63712946 1.08069401]]]\n",
      "[[[ 75.  75.  75.  75.  75.]\n",
      "  [ 25.  25.  75.  25.  75.]\n",
      "  [ 25.  25.  25.  25.  25.]]\n",
      "\n",
      " [[ 75.  25.  25.  75.  25.]\n",
      "  [ 25.  25.  25.  25.  75.]\n",
      "  [100.   0.  75.  75.  25.]]]\n"
     ]
    }
   ],
   "source": [
    "print(d)\n",
    "print(f)"
   ]
  },
  {
   "cell_type": "markdown",
   "metadata": {},
   "source": [
    "#### 18. Bonus question: instead of using numbers (i.e. 0, 25, 50, 75, and 100), use string values  (\"A\", \"B\", \"C\", \"D\", and \"E\") to label the array elements. For the example above, the expected result is:\n",
    "\n",
    "```python\n",
    "[[[ 'D',  'D',  'D',  'B',  'D'],\n",
    "[ 'D',  'D',  'B',  'B',  'B'],\n",
    "[ 'D',  'B',  'D',  'D',  'D']],\n",
    "[[ 'B',  'B',  'B',  'B',  'E'],\n",
    "[ 'D',  'D',  'D',  'D',  'D'],\n",
    "[ 'B',  'D',   'A',  'D', 'D']]]\n",
    "```\n",
    "**Note**: you don't have to use Numpy in this question."
   ]
  },
  {
   "cell_type": "code",
   "execution_count": 80,
   "metadata": {
    "ExecuteTime": {
     "end_time": "2021-03-30T14:40:55.747080Z",
     "start_time": "2021-03-30T14:40:55.708077Z"
    }
   },
   "outputs": [
    {
     "name": "stdout",
     "output_type": "stream",
     "text": [
      "[[['D' 'D' 'D' 'D' 'D']\n",
      "  ['B' 'B' 'D' 'B' 'D']\n",
      "  ['B' 'B' 'B' 'B' 'B']]\n",
      "\n",
      " [['D' 'B' 'B' 'D' 'B']\n",
      "  ['B' 'B' 'B' 'B' 'D']\n",
      "  ['E' 'A' 'D' 'D' 'B']]]\n"
     ]
    }
   ],
   "source": [
    "h = np.empty([2,3,5],dtype=str)\n",
    "\n",
    "h[(d<d_mean)&(d>d_min)] = 'B'\n",
    "h[(d>d_mean)&(d<d_max)] = 'D'\n",
    "h[(d==d_min)] = 'A'\n",
    "h[(d==d_mean)] = 'C'\n",
    "h[(d==d_max)] = 'E'\n",
    "print(h)"
   ]
  },
  {
   "cell_type": "markdown",
   "metadata": {},
   "source": [
    "# Extra challenges"
   ]
  },
  {
   "cell_type": "markdown",
   "metadata": {},
   "source": [
    "#### Insert Dashes\n",
    "\n",
    "Write a function insert_dash(num) / insertDash(num) / InsertDash(int num) that will insert dashes ('-') between each two odd numbers in num. For example: if num is 454793 the output should be 4547-9-3. Don't count zero as an odd number.\n",
    "\n",
    "Note that the number will always be non-negative (>= 0)."
   ]
  },
  {
   "cell_type": "code",
   "execution_count": 11,
   "metadata": {
    "ExecuteTime": {
     "end_time": "2021-04-04T23:28:55.525975Z",
     "start_time": "2021-04-04T23:28:55.519252Z"
    }
   },
   "outputs": [],
   "source": [
    "def insert_dash(num):\n",
    "    word = str(num)\n",
    "    new_num = \"\"\n",
    "    lastodd = False\n",
    "    for i in word:\n",
    "        if int(i)%2==0:\n",
    "            new_num += i\n",
    "            lastodd = False\n",
    "        elif lastodd:\n",
    "            new_num += \"-\"+i\n",
    "        else:\n",
    "            new_num += i\n",
    "            lastodd = True\n",
    "    return new_num"
   ]
  },
  {
   "cell_type": "code",
   "execution_count": 24,
   "metadata": {
    "ExecuteTime": {
     "end_time": "2021-04-04T23:46:18.313345Z",
     "start_time": "2021-04-04T23:46:18.305835Z"
    }
   },
   "outputs": [
    {
     "data": {
      "text/plain": [
       "'4547-9-3'"
      ]
     },
     "execution_count": 24,
     "metadata": {},
     "output_type": "execute_result"
    }
   ],
   "source": [
    "insert_dash(454793)"
   ]
  },
  {
   "cell_type": "markdown",
   "metadata": {
    "ExecuteTime": {
     "end_time": "2021-04-04T23:31:31.560589Z",
     "start_time": "2021-04-04T23:31:31.550845Z"
    }
   },
   "source": [
    "#### Thinkful - Logic Drills: Red and bumpy\n",
    "\n",
    "You're playing a game with a friend involving a bag of marbles. In the bag are ten marbles:\n",
    "\n",
    "1 smooth red marble\n",
    "\n",
    "4 bumpy red marbles\n",
    "\n",
    "2 bumpy yellow marbles\n",
    "\n",
    "1 smooth yellow marble\n",
    "\n",
    "1 bumpy green marble\n",
    "\n",
    "1 smooth green marble\n",
    "\n",
    "You can see that the probability of picking a smooth red marble from the bag is 1 / 10 or 0.10 and the probability of picking a bumpy yellow marble is 2 / 10 or 0.20.\n",
    "\n",
    "The game works like this: your friend puts her hand in the bag, chooses a marble (without looking at it) and tells you whether it's bumpy or smooth. Then you have to guess which color it is before she pulls it out and reveals whether you're correct or not.\n",
    "\n",
    "You know that the information about whether the marble is bumpy or smooth changes the probability of what color it is, and you want some help with your guesses.\n",
    "\n",
    "Write a function color_probability() that takes two arguments: a color ('red', 'yellow', or 'green') and a texture ('bumpy' or 'smooth') and returns the probability as a decimal fraction accurate to two places.\n",
    "\n",
    "The probability should be a string and should discard any digits after the 100ths place. For example, 2 / 3 or 0.6666666666666666 would become the string '0.66'. Note this is different from rounding.\n",
    "\n",
    "As a complete example, color_probability('red', 'bumpy') should return the string '0.57'."
   ]
  },
  {
   "cell_type": "code",
   "execution_count": 22,
   "metadata": {
    "ExecuteTime": {
     "end_time": "2021-04-04T23:45:52.924151Z",
     "start_time": "2021-04-04T23:45:52.918704Z"
    }
   },
   "outputs": [],
   "source": [
    "def color_probability(color,surface):\n",
    "    \n",
    "    total = {'bumpy':7,'smooth':3}\n",
    "    \n",
    "    bumpy = {'red bumpy':4,'red smooth':1,'yellow bumpy':2,'yellow smooth':2,'green bumpy':1,'green smooth':1}\n",
    "    ball = color+' '+surface\n",
    "    prob = np.floor(bumpy[ball]/total[surface]*100)/100\n",
    "    \n",
    "    return prob"
   ]
  },
  {
   "cell_type": "code",
   "execution_count": 23,
   "metadata": {
    "ExecuteTime": {
     "end_time": "2021-04-04T23:45:54.379246Z",
     "start_time": "2021-04-04T23:45:54.367537Z"
    }
   },
   "outputs": [
    {
     "data": {
      "text/plain": [
       "0.57"
      ]
     },
     "execution_count": 23,
     "metadata": {},
     "output_type": "execute_result"
    }
   ],
   "source": [
    "color_probability('red', 'bumpy')"
   ]
  }
 ],
 "metadata": {
  "kernelspec": {
   "display_name": "Python 3",
   "language": "python",
   "name": "python3"
  },
  "language_info": {
   "codemirror_mode": {
    "name": "ipython",
    "version": 3
   },
   "file_extension": ".py",
   "mimetype": "text/x-python",
   "name": "python",
   "nbconvert_exporter": "python",
   "pygments_lexer": "ipython3",
   "version": "3.8.2"
  },
  "latex_envs": {
   "LaTeX_envs_menu_present": true,
   "autoclose": false,
   "autocomplete": true,
   "bibliofile": "biblio.bib",
   "cite_by": "apalike",
   "current_citInitial": 1,
   "eqLabelWithNumbers": true,
   "eqNumInitial": 1,
   "hotkeys": {
    "equation": "Ctrl-E",
    "itemize": "Ctrl-I"
   },
   "labels_anchors": false,
   "latex_user_defs": false,
   "report_style_numbering": false,
   "user_envs_cfg": false
  },
  "varInspector": {
   "cols": {
    "lenName": 16,
    "lenType": 16,
    "lenVar": 40
   },
   "kernels_config": {
    "python": {
     "delete_cmd_postfix": "",
     "delete_cmd_prefix": "del ",
     "library": "var_list.py",
     "varRefreshCmd": "print(var_dic_list())"
    },
    "r": {
     "delete_cmd_postfix": ") ",
     "delete_cmd_prefix": "rm(",
     "library": "var_list.r",
     "varRefreshCmd": "cat(var_dic_list()) "
    }
   },
   "types_to_exclude": [
    "module",
    "function",
    "builtin_function_or_method",
    "instance",
    "_Feature"
   ],
   "window_display": false
  }
 },
 "nbformat": 4,
 "nbformat_minor": 2
}
