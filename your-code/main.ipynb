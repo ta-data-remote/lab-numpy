{
 "cells": [
  {
   "cell_type": "markdown",
   "metadata": {},
   "source": [
    "# Intrduction to NumPy\n",
    "\n",
    "\n",
    "#### 1. Import NumPy under the name np."
   ]
  },
  {
   "cell_type": "code",
   "execution_count": 1,
   "metadata": {},
   "outputs": [],
   "source": [
    "import numpy as np"
   ]
  },
  {
   "cell_type": "markdown",
   "metadata": {},
   "source": [
    "#### 2. Print your NumPy version."
   ]
  },
  {
   "cell_type": "code",
   "execution_count": 3,
   "metadata": {},
   "outputs": [
    {
     "data": {
      "text/plain": [
       "'1.20.1'"
      ]
     },
     "execution_count": 3,
     "metadata": {},
     "output_type": "execute_result"
    }
   ],
   "source": [
    "np.__version__"
   ]
  },
  {
   "cell_type": "markdown",
   "metadata": {},
   "source": [
    "#### 3. Generate a 2x3x5 3-dimensional array with random values. Assign the array to variable *a*.\n",
    "**Challenge**: there are at least three easy ways that use numpy to generate random arrays. How many ways can you find?\n",
    "**Hint**: look for `np.random` and search for functions you want to use.\n",
    "\n",
    "The outcomes should look like:\n",
    "```python\n",
    "array([[[ 0.00453782,  0.47251152,  0.65513617,  0.89370211,  0.91464052],\n",
    "        [ 0.35606786,  0.68149792,  0.37211451,  0.2493357 ,  0.66608051],\n",
    "        [ 0.71459267,  0.68722356,  0.20916865,  0.98338451,  0.28154909]],\n",
    "\n",
    "       [[ 0.83752622,  0.12378486,  0.77380373,  0.43270332,  0.26392168],\n",
    "        [ 0.02528723,  0.5352501 ,  0.35521185,  0.05175587,  0.64898055],\n",
    "        [ 0.52616383,  0.94453068,  0.17055731,  0.15094225,  0.63495276]]])\n",
    "```\n",
    "*The values do not need to be the same. Remember that you are creating random numbers.*"
   ]
  },
  {
   "cell_type": "code",
   "execution_count": 5,
   "metadata": {},
   "outputs": [
    {
     "data": {
      "text/plain": [
       "array([[[0.22750369, 0.96267735, 0.26518808, 0.70424625, 0.3777862 ],\n",
       "        [0.53205517, 0.20874638, 0.97898594, 0.15737383, 0.16897728],\n",
       "        [0.3387975 , 0.77406322, 0.45873956, 0.45753064, 0.06514784]],\n",
       "\n",
       "       [[0.88681849, 0.34210727, 0.83157756, 0.74500449, 0.95533955],\n",
       "        [0.79363084, 0.9018415 , 0.36894461, 0.85400066, 0.9171142 ],\n",
       "        [0.63902782, 0.35411417, 0.70130698, 0.7744567 , 0.19542072]]])"
      ]
     },
     "execution_count": 5,
     "metadata": {},
     "output_type": "execute_result"
    }
   ],
   "source": [
    "# Method 1\n",
    "np.random.random((2,3,5))\n"
   ]
  },
  {
   "cell_type": "code",
   "execution_count": 10,
   "metadata": {},
   "outputs": [
    {
     "data": {
      "text/plain": [
       "array([[[0.98788427, 0.08719126, 0.68704315, 0.6586794 , 0.97593067],\n",
       "        [0.33181914, 0.33579561, 0.66927062, 0.69635367, 0.00660361],\n",
       "        [0.28944599, 0.18859683, 0.57531588, 0.36320095, 0.89618746]],\n",
       "\n",
       "       [[0.11133668, 0.67207877, 0.33818762, 0.9041635 , 0.91952128],\n",
       "        [0.97397331, 0.1016939 , 0.58183832, 0.87413514, 0.34253268],\n",
       "        [0.67138696, 0.64498147, 0.10474594, 0.23327759, 0.71738345]]])"
      ]
     },
     "execution_count": 10,
     "metadata": {},
     "output_type": "execute_result"
    }
   ],
   "source": [
    "# Method 2\n",
    "#np.random.random(30) - created the 30 randoom numbers\n",
    "np.random.random(30).reshape(2,3,5)"
   ]
  },
  {
   "cell_type": "code",
   "execution_count": 13,
   "metadata": {},
   "outputs": [
    {
     "data": {
      "text/plain": [
       "array([[[ 1.33620664, -1.23192134, -2.33263831,  0.92050516,\n",
       "         -0.28866148],\n",
       "        [-0.44077471,  0.9602994 , -0.51478769, -0.47106202,\n",
       "          0.10478649],\n",
       "        [-0.13945275,  0.14140636,  0.90147861, -0.90353157,\n",
       "          0.08568206]],\n",
       "\n",
       "       [[ 0.6918059 , -1.12421846,  0.62649211,  0.28824173,\n",
       "          1.2498652 ],\n",
       "        [-0.56224493,  0.15628838, -0.61266062, -0.56279899,\n",
       "          0.71640519],\n",
       "        [ 0.83289134,  0.40070186,  2.05676593,  0.10305699,\n",
       "         -0.78852984]]])"
      ]
     },
     "execution_count": 13,
     "metadata": {},
     "output_type": "execute_result"
    }
   ],
   "source": [
    "# Method 3- normal distributed random values\n",
    "np.random.normal(size=(2,3,5))"
   ]
  },
  {
   "cell_type": "code",
   "execution_count": 15,
   "metadata": {},
   "outputs": [
    {
     "data": {
      "text/plain": [
       "array([[[0.19557074, 0.02668572, 0.99864953, 0.46894797, 0.58962393],\n",
       "        [0.08190003, 0.90809834, 0.16337938, 0.99393229, 0.95139136],\n",
       "        [0.53877138, 0.65840393, 1.82897082, 1.47829808, 0.18314826]],\n",
       "\n",
       "       [[0.21688582, 4.85833523, 2.13731654, 1.17566418, 1.65735373],\n",
       "        [1.51359364, 1.16642423, 1.11919823, 0.72130052, 0.71423418],\n",
       "        [0.17109436, 0.04726215, 2.17670542, 2.27665121, 0.72173109]]])"
      ]
     },
     "execution_count": 15,
     "metadata": {},
     "output_type": "execute_result"
    }
   ],
   "source": [
    "# Method 4- exponencial distributed random values\n",
    "\n",
    "np.random.exponential(size=(2,3,5))"
   ]
  },
  {
   "cell_type": "code",
   "execution_count": 18,
   "metadata": {},
   "outputs": [
    {
     "data": {
      "text/plain": [
       "array([[[3, 0, 8, 5, 6],\n",
       "        [2, 5, 7, 3, 9],\n",
       "        [4, 1, 7, 5, 4]],\n",
       "\n",
       "       [[0, 4, 7, 2, 2],\n",
       "        [2, 7, 3, 1, 5],\n",
       "        [6, 5, 8, 8, 4]]])"
      ]
     },
     "execution_count": 18,
     "metadata": {},
     "output_type": "execute_result"
    }
   ],
   "source": [
    "# Method 4- random integers\n",
    "#from 0 till 9, with the specified dimensions\n",
    "\n",
    "np.random.randint(0,10,(2,3,5))"
   ]
  },
  {
   "cell_type": "markdown",
   "metadata": {},
   "source": [
    "#### 4. Print *a*.\n"
   ]
  },
  {
   "cell_type": "code",
   "execution_count": 37,
   "metadata": {},
   "outputs": [
    {
     "name": "stdout",
     "output_type": "stream",
     "text": [
      "[[[0.44077822 0.61675757 0.66982973 0.71507157 0.02421088]\n",
      "  [0.66726527 0.58365032 0.67289862 0.95002218 0.40757541]\n",
      "  [0.46775884 0.10742855 0.10797262 0.79892289 0.57614666]]\n",
      "\n",
      " [[0.42665158 0.25335644 0.14431964 0.60645473 0.68174248]\n",
      "  [0.2078575  0.32016683 0.64020122 0.65113408 0.88829554]\n",
      "  [0.41673739 0.56259789 0.65407738 0.7819657  0.35233679]]]\n"
     ]
    },
    {
     "data": {
      "text/plain": [
       "numpy.ndarray"
      ]
     },
     "execution_count": 37,
     "metadata": {},
     "output_type": "execute_result"
    }
   ],
   "source": [
    "a = np.random.random((2,3,5))\n",
    "print(a)\n",
    "type(a)"
   ]
  },
  {
   "cell_type": "markdown",
   "metadata": {},
   "source": [
    "#### 5. Create a 5x3x2 3-dimensional array with all values equaling 1. Assign the array to variable *b*.\n",
    "\n",
    "The outcome should look like:\n",
    "```python\n",
    "       [[[1., 1.],\n",
    "        [1., 1.],\n",
    "        [1., 1.]],\n",
    "\n",
    "       [[1., 1.],\n",
    "        [1., 1.],\n",
    "        [1., 1.]],\n",
    "\n",
    "       [[1., 1.],\n",
    "        [1., 1.],\n",
    "        [1., 1.]],\n",
    "\n",
    "       [[1., 1.],\n",
    "        [1., 1.],\n",
    "        [1., 1.]],\n",
    "\n",
    "       [[1., 1.],\n",
    "        [1., 1.],\n",
    "        [1., 1.]]]\n",
    "```"
   ]
  },
  {
   "cell_type": "code",
   "execution_count": 24,
   "metadata": {},
   "outputs": [
    {
     "data": {
      "text/plain": [
       "numpy.ndarray"
      ]
     },
     "execution_count": 24,
     "metadata": {},
     "output_type": "execute_result"
    }
   ],
   "source": [
    "b=np.full(30,1).reshape(5,3,2)\n",
    "type(b)"
   ]
  },
  {
   "cell_type": "markdown",
   "metadata": {},
   "source": [
    "#### 6. Print *b*.\n"
   ]
  },
  {
   "cell_type": "code",
   "execution_count": 25,
   "metadata": {},
   "outputs": [
    {
     "name": "stdout",
     "output_type": "stream",
     "text": [
      "[[[1 1]\n",
      "  [1 1]\n",
      "  [1 1]]\n",
      "\n",
      " [[1 1]\n",
      "  [1 1]\n",
      "  [1 1]]\n",
      "\n",
      " [[1 1]\n",
      "  [1 1]\n",
      "  [1 1]]\n",
      "\n",
      " [[1 1]\n",
      "  [1 1]\n",
      "  [1 1]]\n",
      "\n",
      " [[1 1]\n",
      "  [1 1]\n",
      "  [1 1]]]\n"
     ]
    }
   ],
   "source": [
    "print(b)"
   ]
  },
  {
   "cell_type": "markdown",
   "metadata": {},
   "source": [
    "#### 7. Do *a* and *b* have the same size? How do you prove that in Python code?"
   ]
  },
  {
   "cell_type": "code",
   "execution_count": 50,
   "metadata": {},
   "outputs": [
    {
     "data": {
      "text/plain": [
       "False"
      ]
     },
     "execution_count": 50,
     "metadata": {},
     "output_type": "execute_result"
    }
   ],
   "source": [
    "a.shape == b.shape #They don´t have the same size"
   ]
  },
  {
   "cell_type": "code",
   "execution_count": 51,
   "metadata": {},
   "outputs": [
    {
     "name": "stdout",
     "output_type": "stream",
     "text": [
      "(5, 3, 2)\n",
      "(2, 3, 5)\n"
     ]
    }
   ],
   "source": [
    "print(b.shape)\n",
    "print(a.shape)"
   ]
  },
  {
   "cell_type": "code",
   "execution_count": 47,
   "metadata": {},
   "outputs": [
    {
     "name": "stdout",
     "output_type": "stream",
     "text": [
      " x dimension: 2, y dimension: 3 ,z dimension: 5\n"
     ]
    }
   ],
   "source": [
    "#I treat it as a list of list\n",
    "len_ax =len(a)\n",
    "for y in a:\n",
    "    len_ay=len(y)\n",
    "    for z in y:\n",
    "        len_az= len(z)\n",
    "        \n",
    "print(f\" x dimension: {len_ax}, y dimension: {len_ay} ,z dimension: {len_az}\")"
   ]
  },
  {
   "cell_type": "code",
   "execution_count": 52,
   "metadata": {},
   "outputs": [
    {
     "name": "stdout",
     "output_type": "stream",
     "text": [
      " x dimension: 5, y dimension: 3 ,z dimension: 2\n"
     ]
    }
   ],
   "source": [
    "#I treat it as a list of list\n",
    "len_bx =len(b)\n",
    "for y in b:\n",
    "    len_by=len(y)\n",
    "    for z in y:\n",
    "        len_bz= len(z)\n",
    "        \n",
    "print(f\" x dimension: {len_bx}, y dimension: {len_by} ,z dimension: {len_bz}\")"
   ]
  },
  {
   "cell_type": "code",
   "execution_count": 54,
   "metadata": {},
   "outputs": [
    {
     "name": "stdout",
     "output_type": "stream",
     "text": [
      "They don't have the same size\n"
     ]
    }
   ],
   "source": [
    "if len_ax==len_bx and len_ay==len_by and len_az==len_bz:\n",
    "    print (\"They have the same size\")\n",
    "else:\n",
    "    print(\"They don't have the same size\")"
   ]
  },
  {
   "cell_type": "markdown",
   "metadata": {},
   "source": [
    "#### 8. Are you able to add *a* and *b*? Why or why not?\n"
   ]
  },
  {
   "cell_type": "code",
   "execution_count": 56,
   "metadata": {},
   "outputs": [
    {
     "ename": "ValueError",
     "evalue": "operands could not be broadcast together with shapes (2,3,5) (5,3,2) ",
     "output_type": "error",
     "traceback": [
      "\u001b[0;31m---------------------------------------------------------------------------\u001b[0m",
      "\u001b[0;31mValueError\u001b[0m                                Traceback (most recent call last)",
      "\u001b[0;32m<ipython-input-56-d0ff3392b8f3>\u001b[0m in \u001b[0;36m<module>\u001b[0;34m\u001b[0m\n\u001b[0;32m----> 1\u001b[0;31m \u001b[0mab\u001b[0m\u001b[0;34m=\u001b[0m \u001b[0ma\u001b[0m \u001b[0;34m+\u001b[0m \u001b[0mb\u001b[0m\u001b[0;34m\u001b[0m\u001b[0;34m\u001b[0m\u001b[0m\n\u001b[0m",
      "\u001b[0;31mValueError\u001b[0m: operands could not be broadcast together with shapes (2,3,5) (5,3,2) "
     ]
    }
   ],
   "source": [
    "ab= a + b\n",
    "#It can not be added because they have different size\n",
    "#ValueError: operands could not be broadcast \n",
    "#together with shapes (2,3,5) (5,3,2) "
   ]
  },
  {
   "cell_type": "markdown",
   "metadata": {},
   "source": [
    "#### 9. Transpose *b* so that it has the same structure of *a* (i.e. become a 2x3x5 array). Assign the transposed array to variable *c*.\n",
    "\n",
    "**Hint**: search for `np.transpose`"
   ]
  },
  {
   "cell_type": "code",
   "execution_count": 60,
   "metadata": {},
   "outputs": [],
   "source": [
    "c= b.transpose()"
   ]
  },
  {
   "cell_type": "code",
   "execution_count": 61,
   "metadata": {},
   "outputs": [
    {
     "name": "stdout",
     "output_type": "stream",
     "text": [
      "[[[1 1 1 1 1]\n",
      "  [1 1 1 1 1]\n",
      "  [1 1 1 1 1]]\n",
      "\n",
      " [[1 1 1 1 1]\n",
      "  [1 1 1 1 1]\n",
      "  [1 1 1 1 1]]]\n"
     ]
    }
   ],
   "source": [
    "print(c)"
   ]
  },
  {
   "cell_type": "markdown",
   "metadata": {},
   "source": [
    "#### 10. Try to add *a* and *c*. Now it should work. Assign the sum to variable *d*. But why does it work now?"
   ]
  },
  {
   "cell_type": "code",
   "execution_count": 64,
   "metadata": {},
   "outputs": [
    {
     "name": "stdout",
     "output_type": "stream",
     "text": [
      "[[[1.44077822 1.61675757 1.66982973 1.71507157 1.02421088]\n",
      "  [1.66726527 1.58365032 1.67289862 1.95002218 1.40757541]\n",
      "  [1.46775884 1.10742855 1.10797262 1.79892289 1.57614666]]\n",
      "\n",
      " [[1.42665158 1.25335644 1.14431964 1.60645473 1.68174248]\n",
      "  [1.2078575  1.32016683 1.64020122 1.65113408 1.88829554]\n",
      "  [1.41673739 1.56259789 1.65407738 1.7819657  1.35233679]]]\n"
     ]
    }
   ],
   "source": [
    "d = a+c\n",
    "print(d)"
   ]
  },
  {
   "cell_type": "code",
   "execution_count": 69,
   "metadata": {},
   "outputs": [
    {
     "data": {
      "text/plain": [
       "True"
      ]
     },
     "execution_count": 69,
     "metadata": {},
     "output_type": "execute_result"
    }
   ],
   "source": [
    "a.shape ==c.shape"
   ]
  },
  {
   "cell_type": "code",
   "execution_count": 71,
   "metadata": {},
   "outputs": [
    {
     "name": "stdout",
     "output_type": "stream",
     "text": [
      "[[[1.44077822 1.61675757 1.66982973 1.71507157 1.02421088]\n",
      "  [1.66726527 1.58365032 1.67289862 1.95002218 1.40757541]\n",
      "  [1.46775884 1.10742855 1.10797262 1.79892289 1.57614666]]\n",
      "\n",
      " [[1.42665158 1.25335644 1.14431964 1.60645473 1.68174248]\n",
      "  [1.2078575  1.32016683 1.64020122 1.65113408 1.88829554]\n",
      "  [1.41673739 1.56259789 1.65407738 1.7819657  1.35233679]]]\n"
     ]
    }
   ],
   "source": [
    "#It can also be add with:\n",
    "\n",
    "d =np.add(a,c)\n",
    "print(d)"
   ]
  },
  {
   "cell_type": "markdown",
   "metadata": {},
   "source": [
    "#### 11. Print *a* and *d*. Notice the difference and relation of the two array in terms of the values? Explain."
   ]
  },
  {
   "cell_type": "code",
   "execution_count": 66,
   "metadata": {},
   "outputs": [
    {
     "name": "stdout",
     "output_type": "stream",
     "text": [
      "[[[0.44077822 0.61675757 0.66982973 0.71507157 0.02421088]\n",
      "  [0.66726527 0.58365032 0.67289862 0.95002218 0.40757541]\n",
      "  [0.46775884 0.10742855 0.10797262 0.79892289 0.57614666]]\n",
      "\n",
      " [[0.42665158 0.25335644 0.14431964 0.60645473 0.68174248]\n",
      "  [0.2078575  0.32016683 0.64020122 0.65113408 0.88829554]\n",
      "  [0.41673739 0.56259789 0.65407738 0.7819657  0.35233679]]]\n"
     ]
    }
   ],
   "source": [
    "print(a)"
   ]
  },
  {
   "cell_type": "code",
   "execution_count": 68,
   "metadata": {},
   "outputs": [
    {
     "name": "stdout",
     "output_type": "stream",
     "text": [
      "[[[1.44077822 1.61675757 1.66982973 1.71507157 1.02421088]\n",
      "  [1.66726527 1.58365032 1.67289862 1.95002218 1.40757541]\n",
      "  [1.46775884 1.10742855 1.10797262 1.79892289 1.57614666]]\n",
      "\n",
      " [[1.42665158 1.25335644 1.14431964 1.60645473 1.68174248]\n",
      "  [1.2078575  1.32016683 1.64020122 1.65113408 1.88829554]\n",
      "  [1.41673739 1.56259789 1.65407738 1.7819657  1.35233679]]]\n"
     ]
    }
   ],
   "source": [
    "print(d)"
   ]
  },
  {
   "cell_type": "code",
   "execution_count": null,
   "metadata": {},
   "outputs": [],
   "source": [
    "#The addition is made element by element, like in a matrix addition"
   ]
  },
  {
   "cell_type": "markdown",
   "metadata": {},
   "source": [
    "#### 12. Multiply *a* and *c*. Assign the result to *e*."
   ]
  },
  {
   "cell_type": "code",
   "execution_count": 74,
   "metadata": {},
   "outputs": [
    {
     "name": "stdout",
     "output_type": "stream",
     "text": [
      "[[[0.44077822 0.61675757 0.66982973 0.71507157 0.02421088]\n",
      "  [0.66726527 0.58365032 0.67289862 0.95002218 0.40757541]\n",
      "  [0.46775884 0.10742855 0.10797262 0.79892289 0.57614666]]\n",
      "\n",
      " [[0.42665158 0.25335644 0.14431964 0.60645473 0.68174248]\n",
      "  [0.2078575  0.32016683 0.64020122 0.65113408 0.88829554]\n",
      "  [0.41673739 0.56259789 0.65407738 0.7819657  0.35233679]]]\n"
     ]
    },
    {
     "data": {
      "text/plain": [
       "array([[[0.44077822, 0.61675757, 0.66982973, 0.71507157, 0.02421088],\n",
       "        [0.66726527, 0.58365032, 0.67289862, 0.95002218, 0.40757541],\n",
       "        [0.46775884, 0.10742855, 0.10797262, 0.79892289, 0.57614666]],\n",
       "\n",
       "       [[0.42665158, 0.25335644, 0.14431964, 0.60645473, 0.68174248],\n",
       "        [0.2078575 , 0.32016683, 0.64020122, 0.65113408, 0.88829554],\n",
       "        [0.41673739, 0.56259789, 0.65407738, 0.7819657 , 0.35233679]]])"
      ]
     },
     "execution_count": 74,
     "metadata": {},
     "output_type": "execute_result"
    }
   ],
   "source": [
    "e = a*c\n",
    "print(e)\n",
    "\n",
    "#or \n",
    "#np.multiply(a,c)"
   ]
  },
  {
   "cell_type": "markdown",
   "metadata": {},
   "source": [
    "#### 13. Does *e* equal to *a*? Why or why not?\n"
   ]
  },
  {
   "cell_type": "code",
   "execution_count": 75,
   "metadata": {},
   "outputs": [
    {
     "data": {
      "text/plain": [
       "array([[[ True,  True,  True,  True,  True],\n",
       "        [ True,  True,  True,  True,  True],\n",
       "        [ True,  True,  True,  True,  True]],\n",
       "\n",
       "       [[ True,  True,  True,  True,  True],\n",
       "        [ True,  True,  True,  True,  True],\n",
       "        [ True,  True,  True,  True,  True]]])"
      ]
     },
     "execution_count": 75,
     "metadata": {},
     "output_type": "execute_result"
    }
   ],
   "source": [
    "e==a\n",
    "#It equals because b is a matrix of 1"
   ]
  },
  {
   "cell_type": "markdown",
   "metadata": {},
   "source": [
    "#### 14. Identify the max, min, and mean values in *d*. Assign those values to variables *d_max*, *d_min* and *d_mean*."
   ]
  },
  {
   "cell_type": "code",
   "execution_count": 81,
   "metadata": {},
   "outputs": [
    {
     "name": "stdout",
     "output_type": "stream",
     "text": [
      "Maximum value in d: 1.9500221830483102, Minimum  value in d: 1.024210879952983, Mean of al value from d: 1.5131394834586467\n"
     ]
    }
   ],
   "source": [
    "d_max =np.max(d)\n",
    "d_min = np.min(d)\n",
    "d_mean = np.mean(d)\n",
    "\n",
    "print(f\"Maximum value in d: {d_max}, Minimum  value in d: {d_min}, Mean of all values from d: {d_mean}\")"
   ]
  },
  {
   "cell_type": "markdown",
   "metadata": {},
   "source": [
    "#### 15. Now we want to label the values in *d*. First create an empty array *f* with the same shape (i.e. 2x3x5) as *d* using `np.zeros`.\n"
   ]
  },
  {
   "cell_type": "code",
   "execution_count": 84,
   "metadata": {},
   "outputs": [],
   "source": [
    "shape_d =d.shape"
   ]
  },
  {
   "cell_type": "code",
   "execution_count": 86,
   "metadata": {},
   "outputs": [
    {
     "name": "stdout",
     "output_type": "stream",
     "text": [
      "[[[0. 0. 0. 0. 0.]\n",
      "  [0. 0. 0. 0. 0.]\n",
      "  [0. 0. 0. 0. 0.]]\n",
      "\n",
      " [[0. 0. 0. 0. 0.]\n",
      "  [0. 0. 0. 0. 0.]\n",
      "  [0. 0. 0. 0. 0.]]]\n"
     ]
    }
   ],
   "source": [
    "f= np.zeros(30).reshape(shape_d)\n",
    "print(f)"
   ]
  },
  {
   "cell_type": "markdown",
   "metadata": {},
   "source": [
    "#### 16. Populate the values in *f*. \n",
    "\n",
    "For each value in *d*, if it's larger than *d_min* but smaller than *d_mean*, assign 25 to the corresponding value in *f*. If a value in *d* is larger than *d_mean* but smaller than *d_max*, assign 75 to the corresponding value in *f*. If a value equals to *d_mean*, assign 50 to the corresponding value in *f*. Assign 0 to the corresponding value(s) in *f* for *d_min* in *d*. Assign 100 to the corresponding value(s) in *f* for *d_max* in *d*. In the end, f should have only the following values: 0, 25, 50, 75, and 100.\n",
    "\n",
    "**Note**: you don't have to use Numpy in this question."
   ]
  },
  {
   "cell_type": "code",
   "execution_count": 93,
   "metadata": {},
   "outputs": [],
   "source": [
    "def percentiles(x,x_min,x_max,d_mean):\n",
    "    if x > x_min and x < x_mean:\n",
    "        y = 25\n",
    "    if x > x_mean and x < x_max:\n",
    "        y = 75\n",
    "    if x == x_mean:\n",
    "        y = 50\n",
    "    if x == x_min:\n",
    "        y = 0\n",
    "    if x == x_max:\n",
    "        y = 100\n",
    "    return y"
   ]
  },
  {
   "cell_type": "code",
   "execution_count": 100,
   "metadata": {},
   "outputs": [
    {
     "name": "stdout",
     "output_type": "stream",
     "text": [
      "0\n",
      "1\n"
     ]
    }
   ],
   "source": [
    "for sub in range(d.shape[0]):\n",
    "    print(sub)"
   ]
  },
  {
   "cell_type": "markdown",
   "metadata": {},
   "source": [
    "#### 17. Print *d* and *f*. Do you have your expected *f*?\n",
    "For instance, if your *d* is:\n",
    "```python\n",
    "[[[1.85836099, 1.67064465, 1.62576044, 1.40243961, 1.88454931],\n",
    "[1.75354326, 1.69403643, 1.36729252, 1.61415071, 1.12104981],\n",
    "[1.72201435, 1.1862918 , 1.87078449, 1.7726778 , 1.88180042]],\n",
    "[[1.44747908, 1.31673383, 1.02000951, 1.52218947, 1.97066381],\n",
    "[1.79129243, 1.74983003, 1.96028037, 1.85166831, 1.65450881],\n",
    "[1.18068344, 1.9587381 , 1.00656599, 1.93402165, 1.73514584]]]\n",
    "```\n",
    "Your *f* should be:\n",
    "```python\n",
    "[[[ 75.,  75.,  75.,  25.,  75.],\n",
    "[ 75.,  75.,  25.,  25.,  25.],\n",
    "[ 75.,  25.,  75.,  75.,  75.]],\n",
    "[[ 25.,  25.,  25.,  25., 100.],\n",
    "[ 75.,  75.,  75.,  75.,  75.],\n",
    "[ 25.,  75.,   0.,  75.,  75.]]]\n",
    "```"
   ]
  },
  {
   "cell_type": "code",
   "execution_count": null,
   "metadata": {},
   "outputs": [],
   "source": [
    "# your code here"
   ]
  },
  {
   "cell_type": "markdown",
   "metadata": {},
   "source": [
    "#### 18. Bonus question: instead of using numbers (i.e. 0, 25, 50, 75, and 100), use string values  (\"A\", \"B\", \"C\", \"D\", and \"E\") to label the array elements. For the example above, the expected result is:\n",
    "\n",
    "```python\n",
    "[[[ 'D',  'D',  'D',  'B',  'D'],\n",
    "[ 'D',  'D',  'B',  'B',  'B'],\n",
    "[ 'D',  'B',  'D',  'D',  'D']],\n",
    "[[ 'B',  'B',  'B',  'B',  'E'],\n",
    "[ 'D',  'D',  'D',  'D',  'D'],\n",
    "[ 'B',  'D',   'A',  'D', 'D']]]\n",
    "```\n",
    "**Note**: you don't have to use Numpy in this question."
   ]
  },
  {
   "cell_type": "code",
   "execution_count": null,
   "metadata": {},
   "outputs": [],
   "source": [
    "# your code here"
   ]
  }
 ],
 "metadata": {
  "kernelspec": {
   "display_name": "Python 3",
   "language": "python",
   "name": "python3"
  },
  "language_info": {
   "codemirror_mode": {
    "name": "ipython",
    "version": 3
   },
   "file_extension": ".py",
   "mimetype": "text/x-python",
   "name": "python",
   "nbconvert_exporter": "python",
   "pygments_lexer": "ipython3",
   "version": "3.8.8"
  }
 },
 "nbformat": 4,
 "nbformat_minor": 2
}
